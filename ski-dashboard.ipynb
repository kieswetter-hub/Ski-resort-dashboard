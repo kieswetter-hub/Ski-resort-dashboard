{
 "cells": [
  {
   "cell_type": "code",
   "execution_count": 1,
   "metadata": {},
   "outputs": [],
   "source": [
    "# Data columns (total 29 columns):\n",
    "#  #   Column                  Non-Null Count  Dtype  \n",
    "# ---  ------                  --------------  -----  \n",
    "#  0   ID                      499 non-null    int64  \n",
    "#  1   Resort                  499 non-null    object \n",
    "#  2   Latitude                499 non-null    float64\n",
    "#  3   Longitude               499 non-null    float64\n",
    "#  4   Country                 499 non-null    object \n",
    "#  5   Continent               499 non-null    object \n",
    "#  6   Price                   499 non-null    int64  \n",
    "#  7   Season                  499 non-null    object \n",
    "#  8   Highest point           499 non-null    int64  \n",
    "#  9   Lowest point            499 non-null    int64  \n",
    "#  10  Beginner slopes         499 non-null    int64  \n",
    "#  11  Intermediate slopes     499 non-null    int64  \n",
    "#  12  Difficult slopes        499 non-null    int64  \n",
    "#  13  Total slopes            499 non-null    int64  \n",
    "#  14  Longest run             499 non-null    int64  \n",
    "#  15  Snow cannons            499 non-null    int64  \n",
    "#  16  Surface lifts           499 non-null    int64  \n",
    "#  17  Chair lifts             499 non-null    int64  \n",
    "#  18  Gondola lifts           499 non-null    int64  \n",
    "#  19  Total lifts             499 non-null    int64  \n",
    "# ...\n",
    "#  27  country_slope_rank      499 non-null    float64\n",
    "#  28  country_cannon_rank     499 non-null    float64\n",
    "# dtypes: float64(6), int64(15), object(8)"
   ]
  },
  {
   "cell_type": "code",
   "execution_count": 16,
   "metadata": {},
   "outputs": [
    {
     "data": {
      "text/html": [
       "\n",
       "        <iframe\n",
       "            width=\"100%\"\n",
       "            height=\"650\"\n",
       "            src=\"http://127.0.0.1:8050/\"\n",
       "            frameborder=\"0\"\n",
       "            allowfullscreen\n",
       "            \n",
       "        ></iframe>\n",
       "        "
      ],
      "text/plain": [
       "<IPython.lib.display.IFrame at 0x2069230a950>"
      ]
     },
     "metadata": {},
     "output_type": "display_data"
    }
   ],
   "source": [
    "# import packages\n",
    "\n",
    "from dash import Dash, dcc, html, dash_table\n",
    "import dash_bootstrap_components as dbc\n",
    "from dash.dependencies import Output, Input\n",
    "from dash.exceptions import PreventUpdate\n",
    "from dash_bootstrap_templates import load_figure_template\n",
    "\n",
    "import plotly.express as px\n",
    "import pandas as pd\n",
    "import numpy as np\n",
    "\n",
    "# import data and assign a rank to certain metrics\n",
    "\n",
    "resorts = (\n",
    "    pd.read_csv(\"data/resorts.csv\", encoding = \"ISO-8859-1\")\n",
    "    .assign(\n",
    "        country_elevation_rank = lambda x: x.groupby(\"Country\", as_index=False)[\"Highest point\"].rank(ascending=False),\n",
    "        country_price_rank = lambda x: x.groupby(\"Country\", as_index=False)[\"Price\"].rank(ascending=False),\n",
    "        country_slope_rank = lambda x: x.groupby(\"Country\", as_index=False)[\"Total slopes\"].rank(ascending=False),\n",
    "        country_cannon_rank = lambda x: x.groupby(\"Country\", as_index=False)[\"Snow cannons\"].rank(ascending=False),\n",
    "    ))\n",
    "\n",
    "# application\n",
    "\n",
    "app = Dash(__name__)\n",
    "\n",
    "app.layout = html.Div([\n",
    "    dcc.Slider(id = \"maxprice\",\n",
    "               min = 0,\n",
    "               max = 140,\n",
    "               step = 20,\n",
    "               value = 80\n",
    "               ),\n",
    "    dcc.Checklist(id = \"checklist\",\n",
    "                 options = [\"Has summer skiing\", \n",
    "                            \"Has night skiing\", \n",
    "                            \"Has snow parks\"],\n",
    "                 value = []),\n",
    "    dcc.Graph(id = \"map\")\n",
    "])\n",
    "\n",
    "@app.callback(\n",
    "    Output(\"map\", \"figure\"),\n",
    "    Input(\"maxprice\", \"value\")\n",
    ")\n",
    "\n",
    "def update_dash(pricelimit):\n",
    "\n",
    "    df = resorts.query(\"Price <= @pricelimit\")\n",
    "\n",
    "    figure = px.density_mapbox(\n",
    "        df,\n",
    "        lat = \"Latitude\",\n",
    "        lon = \"Longitude\",\n",
    "        z = \"Total slopes\",\n",
    "        mapbox_style = \"open-street-map\",\n",
    "        zoom = 2.5,\n",
    "        center = {\"lat\": 52.5, \"lon\": 15},\n",
    "        height = 600,\n",
    "        width = 800,\n",
    "        radius = 15,\n",
    "        title = \"Slope density in resorts\",\n",
    "        hover_name=\"Resort\")\n",
    "\n",
    "    return figure\n",
    "\n",
    "if __name__ == \"__main__\":\n",
    "    app.run_server(debug = True)"
   ]
  }
 ],
 "metadata": {
  "kernelspec": {
   "display_name": "base",
   "language": "python",
   "name": "python3"
  },
  "language_info": {
   "codemirror_mode": {
    "name": "ipython",
    "version": 3
   },
   "file_extension": ".py",
   "mimetype": "text/x-python",
   "name": "python",
   "nbconvert_exporter": "python",
   "pygments_lexer": "ipython3",
   "version": "3.11.5"
  }
 },
 "nbformat": 4,
 "nbformat_minor": 2
}
