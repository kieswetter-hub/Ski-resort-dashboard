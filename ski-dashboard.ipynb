{
 "cells": [
  {
   "cell_type": "code",
   "execution_count": 54,
   "metadata": {},
   "outputs": [
    {
     "name": "stdout",
     "output_type": "stream",
     "text": [
      "Dash app running on http://127.0.0.1:8051/\n"
     ]
    }
   ],
   "source": [
    "# import packages\n",
    "\n",
    "from dash import Dash, dcc, html, dash_table\n",
    "import dash_bootstrap_components as dbc\n",
    "from dash.dependencies import Output, Input\n",
    "from dash.exceptions import PreventUpdate\n",
    "from dash_bootstrap_templates import load_figure_template\n",
    "\n",
    "import plotly.express as px\n",
    "import pandas as pd\n",
    "import numpy as np\n",
    "\n",
    "# import data and assign a rank to certain metrics\n",
    "\n",
    "resorts = (\n",
    "    pd.read_csv(\"data/resorts.csv\", encoding = \"ISO-8859-1\")\n",
    "    .assign(\n",
    "        country_elevation_rank = lambda x: x.groupby(\"Country\", as_index=False)[\"Highest point\"].rank(ascending=False),\n",
    "        country_price_rank = lambda x: x.groupby(\"Country\", as_index=False)[\"Price\"].rank(ascending=False),\n",
    "        country_slope_rank = lambda x: x.groupby(\"Country\", as_index=False)[\"Total slopes\"].rank(ascending=False),\n",
    "        country_cannon_rank = lambda x: x.groupby(\"Country\", as_index=False)[\"Snow cannons\"].rank(ascending=False),\n",
    "    ))\n",
    "\n",
    "\n",
    "#resorts['Resort'] = resorts['Resort'].replace('[^\\w\\s]', ' ', regex=True)\n",
    "\n",
    "# application\n",
    "\n",
    "app = Dash(__name__, external_stylesheets = [dbc.themes.BOOTSTRAP])\n",
    "\n",
    "load_figure_template(\"BOOTSTRAP\")\n",
    "\n",
    "app_style = {\"backgroundColor\": \"#F5F7FB\",\n",
    "             \"color\": \"#33394C\",\n",
    "            \"text-align\": \"left\",\n",
    "            \"height\": \"100vh\"}\n",
    "\n",
    "app.layout = (\n",
    "html.Div(\n",
    "    style = app_style,\n",
    "    children = [\n",
    "        dbc.NavbarSimple(\n",
    "                    children=[dbc.NavItem(dbc.NavLink(\"GitHub\", href=\"https://github.com/kieswetter-hub/Ski-resort-dashboard\"))],\n",
    "                            brand=\"Exploring Global Ski Resorts\",\n",
    "                            color=\"#4E7CFF\",\n",
    "                            dark=True),\n",
    "        dbc.Tabs(id = \"tabs\",\n",
    "        children = [\n",
    "            dbc.Tab(label = \"Resort Map\",\n",
    "                    tab_style={\"margin\": 0,\n",
    "                               \"width\": \"50%\",\n",
    "                               \"font-size\": \"18px\"},\n",
    "                    label_style={\"text-align\": \"center\",\n",
    "                                 \"color\": \"#33394C\"},\n",
    "                    active_label_style={\"background-color\": \"#F5F7FB\"},\n",
    "                            children = [\n",
    "                                dbc.Container([\n",
    "                                    dbc.Row([\n",
    "                                        html.P(),\n",
    "                                        html.H2(id=\"title\", style = {\"text-align\": \"center\"}),\n",
    "                                        html.P()]),\n",
    "                                    dbc.Row([dbc.Col([\n",
    "                                                      dbc.Card(style = {\"text-align\":\"left\",\n",
    "                                                                        \"backgroundColor\": \"#fefefe\",\n",
    "                                                                        \"padding\" : \"20px\"},\n",
    "                                                        children = [\n",
    "                                                            html.P(\"Select a price\", style = {\"font-size\": 18}),\n",
    "                                                            dcc.Slider(id = \"maxprice\",\n",
    "                                                                       min = 0,\n",
    "                                                                       max = 150,\n",
    "                                                                       step = 25,\n",
    "                                                                       value = 100,\n",
    "                                                                       marks={i:{\"label\": f'${i}', \n",
    "                                                                                 \"style\": {\"fontSize\": 14}} \n",
    "                                                                                 for i in range(0, 151, 25)}),\n",
    "                                                            html.Br(),\n",
    "                                                            html.P(\"Select features\", style = {\"font-size\": 18}),\n",
    "                                                            dcc.Checklist(id = \"selectFeatures\",\n",
    "                                                                          options = [\n",
    "                                                                              {'label': '   Summer skiing', 'value': 'Summer skiing'},\n",
    "                                                                              {'label': '   Night skiing', 'value': 'Nightskiing'},\n",
    "                                                                              {'label': '   Snow parks', 'value': 'Snowparks'}],\n",
    "                                                                              value = [])])], width = 4),\n",
    "                                            dbc.Col([\n",
    "                                                      dbc.Card(style = {\"text-align\":\"center\",\n",
    "                                                                        \"backgroundColor\": \"#fefefe\"},\n",
    "                                                        children = [\n",
    "                                                            dcc.Graph(id = \"map\")])], width = 8)\n",
    "                                            ]) # closes row\n",
    "                                ]) # closes container\n",
    "                        ]), # closes children tab 1                       \n",
    "            dbc.Tab(label = \"Country Profile\",\n",
    "                    tab_style={\"margin\": 0,\n",
    "                               \"width\": \"50%\",\n",
    "                               \"font-size\": \"18px\"},\n",
    "                    label_style={\"text-align\": \"center\",\n",
    "                                 \"color\": \"#33394C\"},\n",
    "                    active_label_style={\"background-color\": \"#F5F7FB\"},\n",
    "                            children = [\n",
    "                                dbc.Container([\n",
    "                                    dbc.Row([\n",
    "                                        html.P(),\n",
    "                                        html.H2(id=\"title2\", style = {\"text-align\": \"center\"}),\n",
    "                                        html.P()\n",
    "                                        ]),\n",
    "                                    dbc.Row([dbc.Col([\n",
    "                                                      dbc.Card(style = {\"text-align\":\"left\",\n",
    "                                                                        \"backgroundColor\": \"#fefefe\",\n",
    "                                                                        \"padding\" : \"20px\"},\n",
    "                                                        children = [\n",
    "                                                                html.P(\"Select a continent\", style = {\"font-size\": 18}),\n",
    "                                                                dcc.Dropdown(id = \"selectContinent\",\n",
    "                                                                             options =[{'label': c, 'value': c} for c in np.sort(resorts[\"Continent\"].unique())],\n",
    "                                                                             value = \"Europe\"),\n",
    "                                                                html.Br(),\n",
    "                                                                html.P(\"Select a country\", style = {\"font-size\": 18}),\n",
    "                                                                dcc.Dropdown(id=\"selectCountry\",\n",
    "                                                                             value = \"Norway\"),\n",
    "                                                                html.Br(),\n",
    "                                                                html.P(\"Select a metric\", style = {\"font-size\": 18}),\n",
    "                                                                dcc.Dropdown(id = \"selectMetric\",\n",
    "                                                                             options = [\"Price\",\"Highest point\",\"Total slopes\",\"Total lifts\"],\n",
    "                                                                             value = \"Price\"),\n",
    "                                                                html.Br(),                                                                                                                                                       \n",
    "                                                                    ])], width = 4),\n",
    "                                            dbc.Col([\n",
    "                                                      dbc.Card(style = {\"text-align\":\"center\",\n",
    "                                                                        \"backgroundColor\": \"#fefefe\"},\n",
    "                                                        children = [\n",
    "                                                            dcc.Graph(id = \"barchart\")])], width = 8)\n",
    "                                            ])])\n",
    "                                ])\n",
    "                    ])\n",
    "        ])\n",
    ")\n",
    "\n",
    "@app.callback(\n",
    "    Output(\"title\", \"children\"),\n",
    "    Output(\"map\", \"figure\"),\n",
    "    Input(\"maxprice\", \"value\"),\n",
    "    Input(\"selectFeatures\", \"value\"),\n",
    ")\n",
    "\n",
    "def update_map(pricelimit, features):\n",
    "    \n",
    "    df_filtered = resorts.query(\"Price <= @pricelimit\")\n",
    "\n",
    "    title = f\"Slope density of ski resorts under ${pricelimit}\"\n",
    "\n",
    "    if len(features) == 1:\n",
    "        if \"Nightskiing\" in features:\n",
    "            df_filtered = df_filtered.query('Nightskiing == \"Yes\"')\n",
    "        elif \"Summer skiing\" in features:\n",
    "            df_filtered = df_filtered.query('`Summer skiing` == \"Yes\"')\n",
    "        else:\n",
    "            df_filtered = df_filtered.query('Snowparks == \"Yes\"')\n",
    "    elif len(features) == 2:\n",
    "        if \"Nightskiing\" in features and \"Summer skiing\" in features :\n",
    "            df_filtered = df_filtered.query(\"`Summer skiing` == 'Yes' and Nightskiing == 'Yes'\")\n",
    "        if \"Nightskiing\" in features and \"Snowparks\" in features :\n",
    "            df_filtered = df_filtered.query(\"Snowparks == 'Yes' and Nightskiing == 'Yes'\")\n",
    "        if \"Summer skiing\" in features and \"Snowparks\" in features :\n",
    "            df_filtered = df_filtered.query(\"`Summer skiing` == 'Yes' and Snowparks == 'Yes'\")\n",
    "    elif len(features) == 3:\n",
    "            df_filtered = df_filtered.query(\"`Summer skiing` == 'Yes' and Nightskiing == 'Yes' and Snowparks == 'Yes'\")\n",
    "    else:\n",
    "        df_filtered = df_filtered\n",
    "\n",
    "    figure = (px.density_mapbox(\n",
    "        df_filtered,\n",
    "        lat = \"Latitude\",\n",
    "        lon = \"Longitude\",\n",
    "        z = \"Total slopes\",\n",
    "        mapbox_style = \"carto-positron\",\n",
    "        zoom = 2.5,\n",
    "        center = {\"lat\": 52.5, \"lon\": 15},\n",
    "        radius = 15,\n",
    "        height = 500,\n",
    "        hover_name=\"Resort\")\n",
    "        .update_layout(\n",
    "            geo_bgcolor = \"#F5F7FB\",\n",
    "            paper_bgcolor = \"#fefefe\"))\n",
    "    \n",
    "    return title, figure\n",
    "\n",
    "@app.callback(\n",
    "        Output(\"selectCountry\", \"options\"),\n",
    "        Input(\"selectContinent\", \"value\"),\n",
    ")\n",
    "\n",
    "def populateCountryDropDown(continent):  \n",
    "    if not continent:\n",
    "        raise PreventUpdate  \n",
    "    \n",
    "    country_list = np.sort(resorts.query(\"Continent == @continent\")[\"Country\"].unique())\n",
    "\n",
    "    return country_list\n",
    "\n",
    "\n",
    "@app.callback(\n",
    "    Output(\"title2\", \"children\"),\n",
    "    Output(\"barchart\", \"figure\"),\n",
    "    Input(\"selectCountry\", \"value\"),\n",
    "    Input(\"selectMetric\", \"value\")\n",
    ")\n",
    "\n",
    "def update_bar(country, metric):\n",
    "    if not country:\n",
    "        raise PreventUpdate\n",
    "\n",
    "    df_bar = resorts.query(\"Country == @country\").sort_values(by = metric, ascending = False).head(10)\n",
    "    df_bar\n",
    "    \n",
    "    title2 = f\"Top resorts in {country} based on {metric.lower()}\"\n",
    "\n",
    "    figure2 = (px.bar(df_bar,\n",
    "                      x = \"Resort\",\n",
    "                      y = metric)\n",
    "                      .update_traces(\n",
    "                          showlegend=False,\n",
    "                          marker_color=\"#4E7CFF\",\n",
    "                          opacity = 0.85,))\n",
    "    \n",
    "    return title2, figure2\n",
    "\n",
    "if __name__ == \"__main__\":\n",
    "    app.run_server(port = 8051, debug = True, jupyter_mode=\"external\")"
   ]
  },
  {
   "cell_type": "code",
   "execution_count": 12,
   "metadata": {},
   "outputs": [
    {
     "data": {
      "text/plain": [
       "array(['Japan', 'Lebanon', 'Georgia', 'Turkey', 'Iran', 'South Korea',\n",
       "       'Kazakhstan', 'China'], dtype=object)"
      ]
     },
     "execution_count": 12,
     "metadata": {},
     "output_type": "execute_result"
    }
   ],
   "source": [
    "# resorts.query(\"Price <= @pricelimit\")\n",
    "# resorts[\"Continent\"].unique()\n",
    "\n",
    "continent = [\"Asia\"]\n",
    "country_list = resorts.query(\"Continent == @continent\")\n",
    "country_list[\"Country\"].unique()"
   ]
  },
  {
   "cell_type": "code",
   "execution_count": 49,
   "metadata": {},
   "outputs": [
    {
     "data": {
      "application/vnd.plotly.v1+json": {
       "config": {
        "plotlyServerURL": "https://plot.ly"
       },
       "data": [
        {
         "alignmentgroup": "True",
         "hovertemplate": "Resort=%{x}<br>Price=%{y}<extra></extra>",
         "legendgroup": "",
         "marker": {
          "color": "#4E7CFF",
          "pattern": {
           "shape": ""
          }
         },
         "name": "",
         "offsetgroup": "",
         "opacity": 0.85,
         "orientation": "v",
         "showlegend": false,
         "textposition": "auto",
         "type": "bar",
         "x": [
          "Grands Montets-Argentie?re (Chamonix)",
          "Courchevel (Les 3 Valle?es)",
          "?Les Menuires (Les 3 Valle?es)",
          "Val Thorens (Les 3 Valle?es)",
          "La Tania-Val Thorens/?Les Menuires/?Me?ribel (Les 3 Valle?es)",
          "Saint Martin de Belleville (Les 3 Valle?es)",
          "Me?ribel (Les 3 Valle?es)",
          "Tignes - ?Val d'Ise?re",
          "Les Gets (Les Portes du Soleil)",
          "Cha?tel (Les Portes du Soleil)"
         ],
         "xaxis": "x",
         "y": [
          62,
          61,
          61,
          61,
          61,
          61,
          61,
          56,
          51,
          51
         ],
         "yaxis": "y"
        }
       ],
       "layout": {
        "barmode": "relative",
        "legend": {
         "tracegroupgap": 0
        },
        "margin": {
         "t": 60
        },
        "template": {
         "data": {
          "bar": [
           {
            "error_x": {
             "color": "#2a3f5f"
            },
            "error_y": {
             "color": "#2a3f5f"
            },
            "marker": {
             "line": {
              "color": "white",
              "width": 0.5
             },
             "pattern": {
              "fillmode": "overlay",
              "size": 10,
              "solidity": 0.2
             }
            },
            "type": "bar"
           }
          ],
          "barpolar": [
           {
            "marker": {
             "line": {
              "color": "white",
              "width": 0.5
             },
             "pattern": {
              "fillmode": "overlay",
              "size": 10,
              "solidity": 0.2
             }
            },
            "type": "barpolar"
           }
          ],
          "carpet": [
           {
            "aaxis": {
             "endlinecolor": "#2a3f5f",
             "gridcolor": "#C8D4E3",
             "linecolor": "#C8D4E3",
             "minorgridcolor": "#C8D4E3",
             "startlinecolor": "#2a3f5f"
            },
            "baxis": {
             "endlinecolor": "#2a3f5f",
             "gridcolor": "#C8D4E3",
             "linecolor": "#C8D4E3",
             "minorgridcolor": "#C8D4E3",
             "startlinecolor": "#2a3f5f"
            },
            "type": "carpet"
           }
          ],
          "choropleth": [
           {
            "colorbar": {
             "outlinewidth": 0,
             "ticks": ""
            },
            "type": "choropleth"
           }
          ],
          "contour": [
           {
            "colorbar": {
             "outlinewidth": 0,
             "ticks": ""
            },
            "colorscale": [
             [
              0,
              "#0d0887"
             ],
             [
              0.1111111111111111,
              "#46039f"
             ],
             [
              0.2222222222222222,
              "#7201a8"
             ],
             [
              0.3333333333333333,
              "#9c179e"
             ],
             [
              0.4444444444444444,
              "#bd3786"
             ],
             [
              0.5555555555555556,
              "#d8576b"
             ],
             [
              0.6666666666666666,
              "#ed7953"
             ],
             [
              0.7777777777777778,
              "#fb9f3a"
             ],
             [
              0.8888888888888888,
              "#fdca26"
             ],
             [
              1,
              "#f0f921"
             ]
            ],
            "type": "contour"
           }
          ],
          "contourcarpet": [
           {
            "colorbar": {
             "outlinewidth": 0,
             "ticks": ""
            },
            "type": "contourcarpet"
           }
          ],
          "heatmap": [
           {
            "colorbar": {
             "outlinewidth": 0,
             "ticks": ""
            },
            "colorscale": [
             [
              0,
              "#0d0887"
             ],
             [
              0.1111111111111111,
              "#46039f"
             ],
             [
              0.2222222222222222,
              "#7201a8"
             ],
             [
              0.3333333333333333,
              "#9c179e"
             ],
             [
              0.4444444444444444,
              "#bd3786"
             ],
             [
              0.5555555555555556,
              "#d8576b"
             ],
             [
              0.6666666666666666,
              "#ed7953"
             ],
             [
              0.7777777777777778,
              "#fb9f3a"
             ],
             [
              0.8888888888888888,
              "#fdca26"
             ],
             [
              1,
              "#f0f921"
             ]
            ],
            "type": "heatmap"
           }
          ],
          "heatmapgl": [
           {
            "colorbar": {
             "outlinewidth": 0,
             "ticks": ""
            },
            "colorscale": [
             [
              0,
              "#0d0887"
             ],
             [
              0.1111111111111111,
              "#46039f"
             ],
             [
              0.2222222222222222,
              "#7201a8"
             ],
             [
              0.3333333333333333,
              "#9c179e"
             ],
             [
              0.4444444444444444,
              "#bd3786"
             ],
             [
              0.5555555555555556,
              "#d8576b"
             ],
             [
              0.6666666666666666,
              "#ed7953"
             ],
             [
              0.7777777777777778,
              "#fb9f3a"
             ],
             [
              0.8888888888888888,
              "#fdca26"
             ],
             [
              1,
              "#f0f921"
             ]
            ],
            "type": "heatmapgl"
           }
          ],
          "histogram": [
           {
            "marker": {
             "pattern": {
              "fillmode": "overlay",
              "size": 10,
              "solidity": 0.2
             }
            },
            "type": "histogram"
           }
          ],
          "histogram2d": [
           {
            "colorbar": {
             "outlinewidth": 0,
             "ticks": ""
            },
            "colorscale": [
             [
              0,
              "#0d0887"
             ],
             [
              0.1111111111111111,
              "#46039f"
             ],
             [
              0.2222222222222222,
              "#7201a8"
             ],
             [
              0.3333333333333333,
              "#9c179e"
             ],
             [
              0.4444444444444444,
              "#bd3786"
             ],
             [
              0.5555555555555556,
              "#d8576b"
             ],
             [
              0.6666666666666666,
              "#ed7953"
             ],
             [
              0.7777777777777778,
              "#fb9f3a"
             ],
             [
              0.8888888888888888,
              "#fdca26"
             ],
             [
              1,
              "#f0f921"
             ]
            ],
            "type": "histogram2d"
           }
          ],
          "histogram2dcontour": [
           {
            "colorbar": {
             "outlinewidth": 0,
             "ticks": ""
            },
            "colorscale": [
             [
              0,
              "#0d0887"
             ],
             [
              0.1111111111111111,
              "#46039f"
             ],
             [
              0.2222222222222222,
              "#7201a8"
             ],
             [
              0.3333333333333333,
              "#9c179e"
             ],
             [
              0.4444444444444444,
              "#bd3786"
             ],
             [
              0.5555555555555556,
              "#d8576b"
             ],
             [
              0.6666666666666666,
              "#ed7953"
             ],
             [
              0.7777777777777778,
              "#fb9f3a"
             ],
             [
              0.8888888888888888,
              "#fdca26"
             ],
             [
              1,
              "#f0f921"
             ]
            ],
            "type": "histogram2dcontour"
           }
          ],
          "mesh3d": [
           {
            "colorbar": {
             "outlinewidth": 0,
             "ticks": ""
            },
            "type": "mesh3d"
           }
          ],
          "parcoords": [
           {
            "line": {
             "colorbar": {
              "outlinewidth": 0,
              "ticks": ""
             }
            },
            "type": "parcoords"
           }
          ],
          "pie": [
           {
            "automargin": true,
            "type": "pie"
           }
          ],
          "scatter": [
           {
            "marker": {
             "line": {
              "color": "#fff"
             }
            },
            "type": "scatter"
           }
          ],
          "scatter3d": [
           {
            "line": {
             "colorbar": {
              "outlinewidth": 0,
              "ticks": ""
             }
            },
            "marker": {
             "colorbar": {
              "outlinewidth": 0,
              "ticks": ""
             }
            },
            "type": "scatter3d"
           }
          ],
          "scattercarpet": [
           {
            "marker": {
             "colorbar": {
              "outlinewidth": 0,
              "ticks": ""
             }
            },
            "type": "scattercarpet"
           }
          ],
          "scattergeo": [
           {
            "marker": {
             "colorbar": {
              "outlinewidth": 0,
              "ticks": ""
             }
            },
            "type": "scattergeo"
           }
          ],
          "scattergl": [
           {
            "marker": {
             "line": {
              "color": "#fff"
             }
            },
            "type": "scattergl"
           }
          ],
          "scattermapbox": [
           {
            "marker": {
             "colorbar": {
              "outlinewidth": 0,
              "ticks": ""
             }
            },
            "type": "scattermapbox"
           }
          ],
          "scatterpolar": [
           {
            "marker": {
             "colorbar": {
              "outlinewidth": 0,
              "ticks": ""
             }
            },
            "type": "scatterpolar"
           }
          ],
          "scatterpolargl": [
           {
            "marker": {
             "colorbar": {
              "outlinewidth": 0,
              "ticks": ""
             }
            },
            "type": "scatterpolargl"
           }
          ],
          "scatterternary": [
           {
            "marker": {
             "colorbar": {
              "outlinewidth": 0,
              "ticks": ""
             }
            },
            "type": "scatterternary"
           }
          ],
          "surface": [
           {
            "colorbar": {
             "outlinewidth": 0,
             "ticks": ""
            },
            "colorscale": [
             [
              0,
              "#0d0887"
             ],
             [
              0.1111111111111111,
              "#46039f"
             ],
             [
              0.2222222222222222,
              "#7201a8"
             ],
             [
              0.3333333333333333,
              "#9c179e"
             ],
             [
              0.4444444444444444,
              "#bd3786"
             ],
             [
              0.5555555555555556,
              "#d8576b"
             ],
             [
              0.6666666666666666,
              "#ed7953"
             ],
             [
              0.7777777777777778,
              "#fb9f3a"
             ],
             [
              0.8888888888888888,
              "#fdca26"
             ],
             [
              1,
              "#f0f921"
             ]
            ],
            "type": "surface"
           }
          ],
          "table": [
           {
            "cells": {
             "fill": {
              "color": "#EBF0F8"
             },
             "line": {
              "color": "white"
             }
            },
            "header": {
             "fill": {
              "color": "#C8D4E3"
             },
             "line": {
              "color": "white"
             }
            },
            "type": "table"
           }
          ]
         },
         "layout": {
          "annotationdefaults": {
           "arrowcolor": "#2a3f5f",
           "arrowhead": 0,
           "arrowwidth": 1,
           "font": {
            "color": "#212529"
           }
          },
          "autotypenumbers": "strict",
          "coloraxis": {
           "colorbar": {
            "outlinewidth": 0,
            "ticks": ""
           }
          },
          "colorscale": {
           "diverging": [
            [
             0,
             "#8e0152"
            ],
            [
             0.1,
             "#c51b7d"
            ],
            [
             0.2,
             "#de77ae"
            ],
            [
             0.3,
             "#f1b6da"
            ],
            [
             0.4,
             "#fde0ef"
            ],
            [
             0.5,
             "#f7f7f7"
            ],
            [
             0.6,
             "#e6f5d0"
            ],
            [
             0.7,
             "#b8e186"
            ],
            [
             0.8,
             "#7fbc41"
            ],
            [
             0.9,
             "#4d9221"
            ],
            [
             1,
             "#276419"
            ]
           ],
           "sequential": [
            [
             0,
             "#0d6efd"
            ],
            [
             0.1,
             "#286eef"
            ],
            [
             0.2,
             "#426fe2"
            ],
            [
             0.30000000000000004,
             "#5d6fd4"
            ],
            [
             0.4,
             "#786fc7"
            ],
            [
             0.5,
             "#926fb9"
            ],
            [
             0.6000000000000001,
             "#ad70ac"
            ],
            [
             0.7000000000000001,
             "#c8709e"
            ],
            [
             0.8,
             "#e37091"
            ],
            [
             0.9,
             "#fd7083"
            ],
            [
             1,
             "#ff7176"
            ]
           ],
           "sequentialminus": [
            [
             0,
             "#0d0887"
            ],
            [
             0.1111111111111111,
             "#46039f"
            ],
            [
             0.2222222222222222,
             "#7201a8"
            ],
            [
             0.3333333333333333,
             "#9c179e"
            ],
            [
             0.4444444444444444,
             "#bd3786"
            ],
            [
             0.5555555555555556,
             "#d8576b"
            ],
            [
             0.6666666666666666,
             "#ed7953"
            ],
            [
             0.7777777777777778,
             "#fb9f3a"
            ],
            [
             0.8888888888888888,
             "#fdca26"
            ],
            [
             1,
             "#f0f921"
            ]
           ]
          },
          "colorway": [
           "#5769fe",
           "#d93446",
           "#0a8853",
           "#f7c200",
           "#43c9f0"
          ],
          "font": {
           "color": "#212529",
           "family": "system-ui,-apple-system,\"Segoe UI\",Roboto,\"Helvetica Neue\",\"Noto Sans\",\"Liberation Sans\",Arial,sans-serif,\"Apple Color Emoji\",\"Segoe UI Emoji\",\"Segoe UI Symbol\",\"Noto Color Emoji\""
          },
          "geo": {
           "bgcolor": "#fff",
           "lakecolor": "#fff",
           "landcolor": "#fff",
           "showlakes": true,
           "showland": true,
           "subunitcolor": "#C8D4E3"
          },
          "hoverlabel": {
           "align": "left",
           "font": {
            "family": "system-ui,-apple-system,\"Segoe UI\",Roboto,\"Helvetica Neue\",\"Noto Sans\",\"Liberation Sans\",Arial,sans-serif,\"Apple Color Emoji\",\"Segoe UI Emoji\",\"Segoe UI Symbol\",\"Noto Color Emoji\""
           }
          },
          "hovermode": "closest",
          "mapbox": {
           "style": "light"
          },
          "paper_bgcolor": "#fff",
          "piecolorway": [
           "#5769fe",
           "#d93446",
           "#0a8853",
           "#f7c200",
           "#43c9f0"
          ],
          "plot_bgcolor": "#fff",
          "polar": {
           "angularaxis": {
            "gridcolor": "#EBF0F8",
            "linecolor": "#EBF0F8",
            "ticks": ""
           },
           "bgcolor": "white",
           "radialaxis": {
            "gridcolor": "#EBF0F8",
            "linecolor": "#EBF0F8",
            "ticks": ""
           }
          },
          "scene": {
           "xaxis": {
            "backgroundcolor": "white",
            "gridcolor": "#DFE8F3",
            "gridwidth": 2,
            "linecolor": "#EBF0F8",
            "showbackground": true,
            "ticks": "",
            "zerolinecolor": "#EBF0F8"
           },
           "yaxis": {
            "backgroundcolor": "white",
            "gridcolor": "#DFE8F3",
            "gridwidth": 2,
            "linecolor": "#EBF0F8",
            "showbackground": true,
            "ticks": "",
            "zerolinecolor": "#EBF0F8"
           },
           "zaxis": {
            "backgroundcolor": "white",
            "gridcolor": "#DFE8F3",
            "gridwidth": 2,
            "linecolor": "#EBF0F8",
            "showbackground": true,
            "ticks": "",
            "zerolinecolor": "#EBF0F8"
           }
          },
          "shapedefaults": {
           "line": {
            "color": "#2a3f5f"
           }
          },
          "ternary": {
           "aaxis": {
            "gridcolor": "#DFE8F3",
            "linecolor": "#A2B1C6",
            "ticks": ""
           },
           "baxis": {
            "gridcolor": "#DFE8F3",
            "linecolor": "#A2B1C6",
            "ticks": ""
           },
           "bgcolor": "white",
           "caxis": {
            "gridcolor": "#DFE8F3",
            "linecolor": "#A2B1C6",
            "ticks": ""
           }
          },
          "title": {
           "x": 0.05
          },
          "xaxis": {
           "automargin": true,
           "gridcolor": "#edeeee",
           "gridwidth": 0.5,
           "linecolor": "#EBF0F8",
           "ticks": "",
           "title": {
            "standoff": 15
           },
           "zerolinecolor": "#edeeee",
           "zerolinewidth": 2
          },
          "yaxis": {
           "automargin": true,
           "gridcolor": "#edeeee",
           "gridwidth": 0.5,
           "linecolor": "#EBF0F8",
           "ticks": "",
           "title": {
            "standoff": 15
           },
           "zerolinecolor": "#edeeee",
           "zerolinewidth": 2
          }
         }
        },
        "xaxis": {
         "anchor": "y",
         "domain": [
          0,
          1
         ],
         "title": {
          "text": "Resort"
         }
        },
        "yaxis": {
         "anchor": "x",
         "domain": [
          0,
          1
         ],
         "title": {
          "text": "Price"
         }
        }
       }
      }
     },
     "metadata": {},
     "output_type": "display_data"
    }
   ],
   "source": [
    "metric = \"Price\"\n",
    "country = \"France\"\n",
    "continent = \"Europe\"\n",
    "df_bar = resorts.query(\"Country == @country\").sort_values(by = metric, ascending = False).head(10)\n",
    "df_bar\n",
    "    \n",
    "title2 = f\"Top 10 resorts in {country} based on {metric}\"\n",
    "title2\n",
    "\n",
    "figure2 = (px.bar(df_bar,\n",
    "              x = \"Resort\",\n",
    "              y = metric)\n",
    "              .update_traces(marker_color=\"#4E7CFF\")\n",
    "              .update_traces(\n",
    "                  showlegend=False,\n",
    "                  opacity = 0.85))\n",
    "figure2"
   ]
  }
 ],
 "metadata": {
  "kernelspec": {
   "display_name": "base",
   "language": "python",
   "name": "python3"
  },
  "language_info": {
   "codemirror_mode": {
    "name": "ipython",
    "version": 3
   },
   "file_extension": ".py",
   "mimetype": "text/x-python",
   "name": "python",
   "nbconvert_exporter": "python",
   "pygments_lexer": "ipython3",
   "version": "3.11.5"
  }
 },
 "nbformat": 4,
 "nbformat_minor": 2
}
