{
 "cells": [
  {
   "cell_type": "code",
   "execution_count": 243,
   "metadata": {},
   "outputs": [
    {
     "name": "stdout",
     "output_type": "stream",
     "text": [
      "Dash app running on http://127.0.0.1:8051/\n"
     ]
    },
    {
     "name": "stdout",
     "output_type": "stream",
     "text": [
      "---------------------------------------------------------------------------\n",
      "IndexError                                Traceback (most recent call last)\n",
      "Cell In[243], line 262, in populate_report(\n",
      "    hoverData={'points': [{'customdata': ['']}]}\n",
      ")\n",
      "    250 @app.callback(\n",
      "    251     Output(\"resort-name\", \"children\"),\n",
      "    252     Output(\"price-rank\", \"children\"),\n",
      "   (...)\n",
      "    258 \n",
      "    259 def populate_report(hoverData):\n",
      "    260     resortname = hoverData[\"points\"][0][\"customdata\"][0]\n",
      "--> 262     priceRankCountry = resorts.query(\"Resort == @resortname\")[\"country_price_rank\"].iloc[0].astype(int)\n",
      "        priceRankCountry = 8\n",
      "        resorts =       ID                                         Resort   Latitude  \\\n",
      "0      1                                       Hemsedal  60.928244   \n",
      "1      2                               Geilosiden Geilo  60.534526   \n",
      "2      3                                           Golm  47.057810   \n",
      "3      4                   Red Mountain Resort-Rossland  49.105520   \n",
      "4      5                                        Hafjell  61.230369   \n",
      "..   ...                                            ...        ...   \n",
      "494  495                                        Puigmal  42.395007   \n",
      "495  496                           Kranzberg-Mittenwald  47.451359   \n",
      "496  497  Wetterstein lifts-Wettersteinbahnen- Ehrwald  47.406897   \n",
      "497  498                   Stuhleck-Spital am Semmering  47.574195   \n",
      "498  499                                      Le Massif  47.275900   \n",
      "\n",
      "      Longitude  Country      Continent  Price            Season  \\\n",
      "0      8.383487   Norway         Europe     46    November - May   \n",
      "1      8.206372   Norway         Europe     44  November - April   \n",
      "2      9.828167  Austria         Europe     48  December - April   \n",
      "3   -117.846280   Canada  North America     60  December - April   \n",
      "4     10.529014   Norway         Europe     45  November - April   \n",
      "..          ...      ...            ...    ...               ...   \n",
      "494    2.108883   France         Europe      0           Unknown   \n",
      "495   11.228630  Germany         Europe     29          December   \n",
      "496   10.927998  Austria         Europe     43  December - March   \n",
      "497   15.789964  Austria         Europe     42             April   \n",
      "498  -70.625986   Canada  North America     51  December - April   \n",
      "\n",
      "     Highest point  Lowest point  ...  Nightskiing  Summer skiing  \\\n",
      "0             1450           620  ...          Yes             No   \n",
      "1             1178           800  ...          Yes             No   \n",
      "2             2110           650  ...           No             No   \n",
      "3             2075          1185  ...          Yes             No   \n",
      "4             1030           195  ...          Yes             No   \n",
      "..             ...           ...  ...          ...            ...   \n",
      "494           2700          1830  ...           No             No   \n",
      "495           1350           980  ...          Yes             No   \n",
      "496           1530          1000  ...           No             No   \n",
      "497           1774           777  ...          Yes             No   \n",
      "498            806            36  ...           No             No   \n",
      "\n",
      "     country_elevation_rank  country_price_rank  country_slope_rank  \\\n",
      "0                       2.0                 1.5                 4.0   \n",
      "1                       4.0                 6.0                 6.5   \n",
      "2                      37.0                31.5                63.0   \n",
      "3                      13.0                13.0                 5.0   \n",
      "4                       9.0                 3.5                 3.0   \n",
      "..                      ...                 ...                 ...   \n",
      "494                    25.0                81.0                71.0   \n",
      "495                    14.0                10.0                 8.0   \n",
      "496                    79.0                56.0                67.5   \n",
      "497                    69.0                59.5                66.0   \n",
      "498                    19.0                17.0                20.0   \n",
      "\n",
      "     country_lift_rank  global_elevation_rank  global_price_rank  \\\n",
      "0                  3.0                  392.5              239.0   \n",
      "1                  2.0                  440.0              273.5   \n",
      "2                 60.5                  261.0              210.5   \n",
      "3                 13.5                  272.0              104.0   \n",
      "4                  4.0                  459.0              254.5   \n",
      "..                 ...                    ...                ...   \n",
      "494               63.5                  126.0              495.0   \n",
      "495                6.0                  410.5              442.5   \n",
      "496               63.5                  385.0              293.0   \n",
      "497               68.5                  343.0              308.0   \n",
      "498               16.0                  486.0              170.0   \n",
      "\n",
      "     global_slope_rank  global_lift_rank  \n",
      "0                302.5             171.5  \n",
      "1                358.5             141.0  \n",
      "2                392.0             345.0  \n",
      "3                 90.0             419.5  \n",
      "4                295.5             207.0  \n",
      "..                 ...               ...  \n",
      "494              372.0             306.0  \n",
      "495              448.5             368.5  \n",
      "496              410.5             368.5  \n",
      "497              404.5             395.0  \n",
      "498              335.0             438.0  \n",
      "\n",
      "[499 rows x 33 columns]\n",
      "    263     elevationRankCountry = resorts.query(\"Resort == @resortname\")[\"country_elevation_rank\"].iloc[0].astype(int)\n",
      "    264     slopeRankCountry = resorts.query(\"Resort == @resortname\")[\"country_slope_rank\"].iloc[0].astype(int)\n",
      "\n",
      "File c:\\Users\\kiesw\\miniconda3\\Lib\\site-packages\\pandas\\core\\indexing.py:1153, in _LocationIndexer.__getitem__(\n",
      "    self=<pandas.core.indexing._iLocIndexer object>,\n",
      "    key=0\n",
      ")\n",
      "   1150 axis = self.axis or 0\n",
      "   1152 maybe_callable = com.apply_if_callable(key, self.obj)\n",
      "-> 1153 return self._getitem_axis(maybe_callable, axis=axis)\n",
      "        axis = 0\n",
      "        maybe_callable = 0\n",
      "        self = <pandas.core.indexing._iLocIndexer object at 0x0000026894E14370>\n",
      "\n",
      "File c:\\Users\\kiesw\\miniconda3\\Lib\\site-packages\\pandas\\core\\indexing.py:1714, in _iLocIndexer._getitem_axis(\n",
      "    self=<pandas.core.indexing._iLocIndexer object>,\n",
      "    key=0,\n",
      "    axis=0\n",
      ")\n",
      "   1711     raise TypeError(\"Cannot index by location index with a non-integer key\")\n",
      "   1713 # validate the location\n",
      "-> 1714 self._validate_integer(key, axis)\n",
      "        key = 0\n",
      "        axis = 0\n",
      "        self = <pandas.core.indexing._iLocIndexer object at 0x0000026894E14370>\n",
      "   1716 return self.obj._ixs(key, axis=axis)\n",
      "\n",
      "File c:\\Users\\kiesw\\miniconda3\\Lib\\site-packages\\pandas\\core\\indexing.py:1647, in _iLocIndexer._validate_integer(\n",
      "    self=<pandas.core.indexing._iLocIndexer object>,\n",
      "    key=0,\n",
      "    axis=0\n",
      ")\n",
      "   1645 len_axis = len(self.obj._get_axis(axis))\n",
      "   1646 if key >= len_axis or key < -len_axis:\n",
      "-> 1647     raise IndexError(\"single positional indexer is out-of-bounds\")\n",
      "\n",
      "IndexError: single positional indexer is out-of-bounds\n",
      "\n"
     ]
    }
   ],
   "source": [
    "# import packages\n",
    "\n",
    "from dash import Dash, dcc, html, dash_table\n",
    "import dash_bootstrap_components as dbc\n",
    "from dash.dependencies import Output, Input\n",
    "from dash.exceptions import PreventUpdate\n",
    "from dash_bootstrap_templates import load_figure_template\n",
    "\n",
    "import plotly.express as px\n",
    "import pandas as pd\n",
    "import numpy as np\n",
    "\n",
    "# import data and assign a rank to certain metrics\n",
    "\n",
    "resorts = (\n",
    "    pd.read_csv(\"data/resorts.csv\", encoding = \"ISO-8859-1\")\n",
    "    .assign(\n",
    "        country_elevation_rank = lambda x: x.groupby(\"Country\", as_index=False)[\"Highest point\"].rank(ascending=False),\n",
    "        country_price_rank = lambda x: x.groupby(\"Country\", as_index=False)[\"Price\"].rank(ascending=False),\n",
    "        country_slope_rank = lambda x: x.groupby(\"Country\", as_index=False)[\"Total slopes\"].rank(ascending=False),\n",
    "        country_lift_rank = lambda x: x.groupby(\"Country\", as_index=False)[\"Total lifts\"].rank(ascending=False),\n",
    "        global_elevation_rank = lambda x: x[\"Highest point\"].rank(ascending=False),\n",
    "        global_price_rank = lambda x: x[\"Price\"].rank(ascending=False),\n",
    "        global_slope_rank = lambda x: x[\"Total slopes\"].rank(ascending=False),\n",
    "        global_lift_rank = lambda x: x[\"Total lifts\"].rank(ascending=False),\n",
    "    ))\n",
    "\n",
    "\n",
    "#resorts['Resort'] = resorts['Resort'].replace('[^\\w\\s]', ' ', regex=True)\n",
    "\n",
    "# application\n",
    "\n",
    "app = Dash(__name__, external_stylesheets = [dbc.themes.BOOTSTRAP])\n",
    "\n",
    "load_figure_template(\"BOOTSTRAP\")\n",
    "\n",
    "app_style = {\"backgroundColor\": \"#F5F7FB\",\n",
    "             \"color\": \"#33394C\",\n",
    "            \"text-align\": \"left\",\n",
    "            \"height\": \"100vh\"}\n",
    "\n",
    "app.layout = (\n",
    "html.Div(\n",
    "    style = app_style,\n",
    "    children = [\n",
    "        dbc.NavbarSimple(\n",
    "                    children=[dbc.NavItem(dbc.NavLink(\"GitHub\", href=\"https://github.com/kieswetter-hub/Ski-resort-dashboard\"))],\n",
    "                            brand=\"Exploring Global Ski Resorts\",\n",
    "                            color=\"#4E7CFF\",\n",
    "                            dark=True),\n",
    "        dbc.Tabs(id = \"tabs\",\n",
    "        children = [\n",
    "            dbc.Tab(label = \"Resort Map\",\n",
    "                    tab_style={\"margin\": 0,\n",
    "                               \"width\": \"50%\",\n",
    "                               \"font-size\": \"18px\"},\n",
    "                    label_style={\"text-align\": \"center\",\n",
    "                                 \"color\": \"#33394C\"},\n",
    "                    active_label_style={\"background-color\": \"#F5F7FB\"},\n",
    "                            children = [\n",
    "                                dbc.Container([\n",
    "                                    dbc.Row([\n",
    "                                        html.P(),\n",
    "                                        html.H2(id=\"title\", style = {\"text-align\": \"center\"}),\n",
    "                                        html.P()]),\n",
    "                                    dbc.Row([dbc.Col([\n",
    "                                                      dbc.Card(style = {\"text-align\":\"left\",\n",
    "                                                                        \"backgroundColor\": \"#fefefe\",\n",
    "                                                                        \"padding\" : \"20px\"},\n",
    "                                                        children = [\n",
    "                                                            html.P(\"Select a price\", style = {\"font-size\": 18}),\n",
    "                                                            dcc.Slider(id = \"maxprice\",\n",
    "                                                                       min = 0,\n",
    "                                                                       max = 150,\n",
    "                                                                       step = 25,\n",
    "                                                                       value = 100,\n",
    "                                                                       marks={i:{\"label\": f'${i}', \n",
    "                                                                                 \"style\": {\"fontSize\": 14}} \n",
    "                                                                                 for i in range(0, 151, 25)}),\n",
    "                                                            html.Br(),\n",
    "                                                            html.P(\"Select features\", style = {\"font-size\": 18}),\n",
    "                                                            dcc.Checklist(id = \"selectFeatures\",\n",
    "                                                                          options = [\n",
    "                                                                              {'label': '   Summer skiing', 'value': 'Summer skiing'},\n",
    "                                                                              {'label': '   Night skiing', 'value': 'Nightskiing'},\n",
    "                                                                              {'label': '   Snow parks', 'value': 'Snowparks'}],\n",
    "                                                                              value = [])])], width = 4),\n",
    "                                            dbc.Col([\n",
    "                                                      dbc.Card(style = {\"text-align\":\"center\",\n",
    "                                                                        \"backgroundColor\": \"#fefefe\"},\n",
    "                                                        children = [\n",
    "                                                            dcc.Graph(id = \"map\")])], width = 8)\n",
    "                                            ]) # closes row\n",
    "                                ]) # closes container\n",
    "                        ]), # closes children tab 1                       \n",
    "            dbc.Tab(label = \"Country Profile\",\n",
    "                    tab_style={\"margin\": 0,\n",
    "                               \"width\": \"50%\",\n",
    "                               \"font-size\": \"18px\"},\n",
    "                    label_style={\"text-align\": \"center\",\n",
    "                                 \"color\": \"#33394C\"},\n",
    "                    active_label_style={\"background-color\": \"#F5F7FB\"},\n",
    "                            children = [\n",
    "                                dbc.Container([\n",
    "                                    dbc.Row([\n",
    "                                        html.P(),\n",
    "                                        html.H2(id=\"title2\", style = {\"text-align\": \"center\"}),\n",
    "                                        html.P()\n",
    "                                        ]),\n",
    "                                    dbc.Row([dbc.Col([\n",
    "                                                      dbc.Card(style = {\"text-align\":\"left\",\n",
    "                                                                        \"backgroundColor\": \"#fefefe\",\n",
    "                                                                        \"padding\" : \"20px\"},\n",
    "                                                        children = [\n",
    "                                                                html.P(\"Select a continent\", style = {\"font-size\": 18}),\n",
    "                                                                dcc.Dropdown(id = \"selectContinent\",\n",
    "                                                                             options =[{'label': c, 'value': c} for c in np.sort(resorts[\"Continent\"].unique())],\n",
    "                                                                             value = \"Europe\"),\n",
    "                                                                html.Br(),\n",
    "                                                                html.P(\"Select a country\", style = {\"font-size\": 18}),\n",
    "                                                                dcc.Dropdown(id=\"selectCountry\",\n",
    "                                                                             value = \"Norway\"),\n",
    "                                                                html.Br(),\n",
    "                                                                html.P(\"Select a metric\", style = {\"font-size\": 18}),\n",
    "                                                                dcc.Dropdown(id = \"selectMetric\",\n",
    "                                                                             options = [\"Price\",\"Highest point\",\"Total slopes\",\"Total lifts\"],\n",
    "                                                                             value = \"Price\"),\n",
    "                                                                html.Br(),                                                                                                                                                       \n",
    "                                                                    ])], \n",
    "                                                                    width = 3),\n",
    "                                            dbc.Col([\n",
    "                                                      dbc.Card(style = {\"text-align\":\"center\",\n",
    "                                                                        \"backgroundColor\": \"#fefefe\"},\n",
    "                                                        children = [\n",
    "                                                            dcc.Graph(id = \"barchart\", hoverData = {\"points\": [{\"customdata\": [\"\"]}]})])], \n",
    "                                                            width = 7),\n",
    "                                             dbc.Col([dbc.Card(\n",
    "                                                 children = [\n",
    "                                                 dbc.CardHeader(\"Local Rank (Global)\"),\n",
    "                                                 dbc.CardBody([\n",
    "                                                     html.H5(id = \"resort-name\", style = {\"padding-bottom\": \"10px\"}),\n",
    "                                                     html.P(id = \"price-rank\"),\n",
    "                                                     html.P(id = \"elevation-rank\"),\n",
    "                                                     html.P(id = \"slope-rank\"),\n",
    "                                                     html.P(id = \"lift-rank\"),\n",
    "                                                            ]),\n",
    "                                                            ]\n",
    "                                                      )], \n",
    "                                                      width = 2)\n",
    "                                            ])])\n",
    "                                ])\n",
    "                    ])\n",
    "        ])\n",
    ")\n",
    "\n",
    "@app.callback(\n",
    "    Output(\"title\", \"children\"),\n",
    "    Output(\"map\", \"figure\"),\n",
    "    Input(\"maxprice\", \"value\"),\n",
    "    Input(\"selectFeatures\", \"value\"),\n",
    ")\n",
    "\n",
    "def update_map(pricelimit, features):\n",
    "    \n",
    "    df_filtered = resorts.query(\"Price <= @pricelimit\")\n",
    "\n",
    "    title = f\"Slope density of ski resorts under ${pricelimit}\"\n",
    "\n",
    "    if len(features) == 1:\n",
    "        if \"Nightskiing\" in features:\n",
    "            df_filtered = df_filtered.query('Nightskiing == \"Yes\"')\n",
    "        elif \"Summer skiing\" in features:\n",
    "            df_filtered = df_filtered.query('`Summer skiing` == \"Yes\"')\n",
    "        else:\n",
    "            df_filtered = df_filtered.query('Snowparks == \"Yes\"')\n",
    "    elif len(features) == 2:\n",
    "        if \"Nightskiing\" in features and \"Summer skiing\" in features :\n",
    "            df_filtered = df_filtered.query(\"`Summer skiing` == 'Yes' and Nightskiing == 'Yes'\")\n",
    "        if \"Nightskiing\" in features and \"Snowparks\" in features :\n",
    "            df_filtered = df_filtered.query(\"Snowparks == 'Yes' and Nightskiing == 'Yes'\")\n",
    "        if \"Summer skiing\" in features and \"Snowparks\" in features :\n",
    "            df_filtered = df_filtered.query(\"`Summer skiing` == 'Yes' and Snowparks == 'Yes'\")\n",
    "    elif len(features) == 3:\n",
    "            df_filtered = df_filtered.query(\"`Summer skiing` == 'Yes' and Nightskiing == 'Yes' and Snowparks == 'Yes'\")\n",
    "    else:\n",
    "        df_filtered = df_filtered\n",
    "\n",
    "    figure = (px.density_mapbox(\n",
    "        df_filtered,\n",
    "        lat = \"Latitude\",\n",
    "        lon = \"Longitude\",\n",
    "        z = \"Total slopes\",\n",
    "        mapbox_style = \"carto-positron\",\n",
    "        zoom = 2.5,\n",
    "        center = {\"lat\": 52.5, \"lon\": 15},\n",
    "        radius = 15,\n",
    "        height = 500,\n",
    "        hover_name=\"Resort\",\n",
    "        hover_data={'Latitude':False, 'Longitude':False})\n",
    "        .update_layout(\n",
    "            geo_bgcolor = \"#F5F7FB\",\n",
    "            paper_bgcolor = \"#fefefe\"))\n",
    "    \n",
    "    return title, figure\n",
    "\n",
    "@app.callback(\n",
    "        Output(\"selectCountry\", \"options\"),\n",
    "        Input(\"selectContinent\", \"value\"),\n",
    ")\n",
    "\n",
    "def populateCountryDropDown(continent):  \n",
    "    if not continent:\n",
    "        raise PreventUpdate  \n",
    "    \n",
    "    country_list = np.sort(resorts.query(\"Continent == @continent\")[\"Country\"].unique())\n",
    "\n",
    "    return country_list\n",
    "\n",
    "\n",
    "@app.callback(\n",
    "    Output(\"title2\", \"children\"),\n",
    "    Output(\"barchart\", \"figure\"),\n",
    "    Input(\"selectCountry\", \"value\"),\n",
    "    Input(\"selectMetric\", \"value\")\n",
    ")\n",
    "\n",
    "def update_bar(country, metric):\n",
    "    if not country:\n",
    "        raise PreventUpdate\n",
    "\n",
    "    df_bar = resorts.query(\"Country == @country\").sort_values(by = metric, ascending = False).head(10)\n",
    "    df_bar\n",
    "    \n",
    "    title2 = f\"Top resorts in {country} based on {metric.lower()}\"\n",
    "\n",
    "    figure2 = (px.bar(df_bar,\n",
    "                      x = \"Resort\",\n",
    "                      y = metric,\n",
    "                      hover_name=\"Resort\",\n",
    "                      hover_data={'Resort':False},\n",
    "                      custom_data=[\"Resort\", \"country_price_rank\"])\n",
    "                      .update_traces(\n",
    "                          showlegend=False,\n",
    "                          marker_color=\"#4E7CFF\",\n",
    "                          opacity = 0.85)\n",
    "                      .update_xaxes(tickfont=dict(color=\"rgba(0,0,0,0)\", size = 1)))\n",
    "    \n",
    "    return title2, figure2\n",
    "\n",
    "@app.callback(\n",
    "    Output(\"resort-name\", \"children\"),\n",
    "    Output(\"price-rank\", \"children\"),\n",
    "    Output(\"elevation-rank\", \"children\"),\n",
    "    Output(\"slope-rank\", \"children\"),\n",
    "    Output(\"lift-rank\", \"children\"),\n",
    "    Input(\"barchart\", \"hoverData\")\n",
    ")\n",
    "\n",
    "def populate_report(hoverData):\n",
    "    resortname = hoverData[\"points\"][0][\"customdata\"][0]\n",
    "\n",
    "    priceRankCountry = resorts.query(\"Resort == @resortname\")[\"country_price_rank\"].iloc[0].astype(int)\n",
    "    elevationRankCountry = resorts.query(\"Resort == @resortname\")[\"country_elevation_rank\"].iloc[0].astype(int)\n",
    "    slopeRankCountry = resorts.query(\"Resort == @resortname\")[\"country_slope_rank\"].iloc[0].astype(int)\n",
    "    liftRankCountry = resorts.query(\"Resort == @resortname\")[\"country_lift_rank\"].iloc[0].astype(int)\n",
    "\n",
    "    priceRankGlobal = resorts.query(\"Resort == @resortname\")[\"global_price_rank\"].iloc[0].astype(int)\n",
    "    elevationRankGlobal = resorts.query(\"Resort == @resortname\")[\"global_elevation_rank\"].iloc[0].astype(int)\n",
    "    slopeRankGlobal = resorts.query(\"Resort == @resortname\")[\"global_slope_rank\"].iloc[0].astype(int)\n",
    "    liftRankGlobal = resorts.query(\"Resort == @resortname\")[\"global_lift_rank\"].iloc[0].astype(int)\n",
    "\n",
    "    priceRank = f'Price: {priceRankCountry} ({priceRankGlobal})'\n",
    "    elevationRank = f'Elevation: {elevationRankCountry} ({elevationRankGlobal})'\n",
    "    slopeRank = f'Total slopes: {slopeRankCountry} ({slopeRankGlobal})'\n",
    "    liftRank = f'Total lifts: {liftRankCountry} ({liftRankGlobal})'\n",
    "\n",
    "    return resortname, priceRank, elevationRank, slopeRank, liftRank\n",
    "\n",
    "if __name__ == \"__main__\":\n",
    "    app.run_server(port = 8051, debug = True, jupyter_mode=\"external\")"
   ]
  },
  {
   "cell_type": "code",
   "execution_count": 159,
   "metadata": {},
   "outputs": [
    {
     "data": {
      "text/html": [
       "<div>\n",
       "<style scoped>\n",
       "    .dataframe tbody tr th:only-of-type {\n",
       "        vertical-align: middle;\n",
       "    }\n",
       "\n",
       "    .dataframe tbody tr th {\n",
       "        vertical-align: top;\n",
       "    }\n",
       "\n",
       "    .dataframe thead th {\n",
       "        text-align: right;\n",
       "    }\n",
       "</style>\n",
       "<table border=\"1\" class=\"dataframe\">\n",
       "  <thead>\n",
       "    <tr style=\"text-align: right;\">\n",
       "      <th></th>\n",
       "      <th>ID</th>\n",
       "      <th>Resort</th>\n",
       "      <th>Latitude</th>\n",
       "      <th>Longitude</th>\n",
       "      <th>Country</th>\n",
       "      <th>Continent</th>\n",
       "      <th>Price</th>\n",
       "      <th>Season</th>\n",
       "      <th>Highest point</th>\n",
       "      <th>Lowest point</th>\n",
       "      <th>...</th>\n",
       "      <th>Nightskiing</th>\n",
       "      <th>Summer skiing</th>\n",
       "      <th>country_elevation_rank</th>\n",
       "      <th>country_price_rank</th>\n",
       "      <th>country_slope_rank</th>\n",
       "      <th>country_lift_rank</th>\n",
       "      <th>global_elevation_rank</th>\n",
       "      <th>global_price_rank</th>\n",
       "      <th>global_slope_rank</th>\n",
       "      <th>global_lift_rank</th>\n",
       "    </tr>\n",
       "  </thead>\n",
       "  <tbody>\n",
       "    <tr>\n",
       "      <th>353</th>\n",
       "      <td>354</td>\n",
       "      <td>Szczyrk-Skrzyczne</td>\n",
       "      <td>49.707120</td>\n",
       "      <td>19.011709</td>\n",
       "      <td>Poland</td>\n",
       "      <td>Europe</td>\n",
       "      <td>20</td>\n",
       "      <td>December - April</td>\n",
       "      <td>1257</td>\n",
       "      <td>524</td>\n",
       "      <td>...</td>\n",
       "      <td>No</td>\n",
       "      <td>No</td>\n",
       "      <td>1.0</td>\n",
       "      <td>2.0</td>\n",
       "      <td>1.0</td>\n",
       "      <td>1.0</td>\n",
       "      <td>425.0</td>\n",
       "      <td>481.0</td>\n",
       "      <td>362.5</td>\n",
       "      <td>236.0</td>\n",
       "    </tr>\n",
       "    <tr>\n",
       "      <th>268</th>\n",
       "      <td>269</td>\n",
       "      <td>Bukovel</td>\n",
       "      <td>48.353783</td>\n",
       "      <td>24.412830</td>\n",
       "      <td>Ukraine</td>\n",
       "      <td>Europe</td>\n",
       "      <td>32</td>\n",
       "      <td>November - May</td>\n",
       "      <td>1372</td>\n",
       "      <td>890</td>\n",
       "      <td>...</td>\n",
       "      <td>Yes</td>\n",
       "      <td>No</td>\n",
       "      <td>1.0</td>\n",
       "      <td>1.0</td>\n",
       "      <td>1.0</td>\n",
       "      <td>1.0</td>\n",
       "      <td>405.0</td>\n",
       "      <td>414.5</td>\n",
       "      <td>209.5</td>\n",
       "      <td>207.0</td>\n",
       "    </tr>\n",
       "    <tr>\n",
       "      <th>49</th>\n",
       "      <td>50</td>\n",
       "      <td>Valle Nevado</td>\n",
       "      <td>-33.352964</td>\n",
       "      <td>-70.248678</td>\n",
       "      <td>Chile</td>\n",
       "      <td>South America</td>\n",
       "      <td>64</td>\n",
       "      <td>June - October</td>\n",
       "      <td>3670</td>\n",
       "      <td>2860</td>\n",
       "      <td>...</td>\n",
       "      <td>No</td>\n",
       "      <td>Yes</td>\n",
       "      <td>1.0</td>\n",
       "      <td>1.5</td>\n",
       "      <td>2.0</td>\n",
       "      <td>2.0</td>\n",
       "      <td>12.0</td>\n",
       "      <td>79.5</td>\n",
       "      <td>335.0</td>\n",
       "      <td>256.0</td>\n",
       "    </tr>\n",
       "    <tr>\n",
       "      <th>180</th>\n",
       "      <td>181</td>\n",
       "      <td>Sunshine Village</td>\n",
       "      <td>51.089525</td>\n",
       "      <td>-115.762202</td>\n",
       "      <td>Canada</td>\n",
       "      <td>North America</td>\n",
       "      <td>66</td>\n",
       "      <td>November - May</td>\n",
       "      <td>2730</td>\n",
       "      <td>1660</td>\n",
       "      <td>...</td>\n",
       "      <td>No</td>\n",
       "      <td>No</td>\n",
       "      <td>1.0</td>\n",
       "      <td>4.5</td>\n",
       "      <td>7.0</td>\n",
       "      <td>5.5</td>\n",
       "      <td>120.0</td>\n",
       "      <td>72.0</td>\n",
       "      <td>109.0</td>\n",
       "      <td>326.5</td>\n",
       "    </tr>\n",
       "    <tr>\n",
       "      <th>48</th>\n",
       "      <td>49</td>\n",
       "      <td>Les Deux alpes</td>\n",
       "      <td>45.009995</td>\n",
       "      <td>6.123761</td>\n",
       "      <td>France</td>\n",
       "      <td>Europe</td>\n",
       "      <td>49</td>\n",
       "      <td>December - April, June - August, October - Nov...</td>\n",
       "      <td>3560</td>\n",
       "      <td>1280</td>\n",
       "      <td>...</td>\n",
       "      <td>Yes</td>\n",
       "      <td>Yes</td>\n",
       "      <td>1.0</td>\n",
       "      <td>18.0</td>\n",
       "      <td>18.5</td>\n",
       "      <td>20.0</td>\n",
       "      <td>17.0</td>\n",
       "      <td>198.5</td>\n",
       "      <td>45.0</td>\n",
       "      <td>47.5</td>\n",
       "    </tr>\n",
       "    <tr>\n",
       "      <th>...</th>\n",
       "      <td>...</td>\n",
       "      <td>...</td>\n",
       "      <td>...</td>\n",
       "      <td>...</td>\n",
       "      <td>...</td>\n",
       "      <td>...</td>\n",
       "      <td>...</td>\n",
       "      <td>...</td>\n",
       "      <td>...</td>\n",
       "      <td>...</td>\n",
       "      <td>...</td>\n",
       "      <td>...</td>\n",
       "      <td>...</td>\n",
       "      <td>...</td>\n",
       "      <td>...</td>\n",
       "      <td>...</td>\n",
       "      <td>...</td>\n",
       "      <td>...</td>\n",
       "      <td>...</td>\n",
       "      <td>...</td>\n",
       "      <td>...</td>\n",
       "    </tr>\n",
       "    <tr>\n",
       "      <th>204</th>\n",
       "      <td>205</td>\n",
       "      <td>Oberau (Wildscho?nau)</td>\n",
       "      <td>47.423497</td>\n",
       "      <td>12.030743</td>\n",
       "      <td>Austria</td>\n",
       "      <td>Europe</td>\n",
       "      <td>30</td>\n",
       "      <td>December - March</td>\n",
       "      <td>1130</td>\n",
       "      <td>900</td>\n",
       "      <td>...</td>\n",
       "      <td>No</td>\n",
       "      <td>No</td>\n",
       "      <td>85.0</td>\n",
       "      <td>85.0</td>\n",
       "      <td>89.0</td>\n",
       "      <td>89.0</td>\n",
       "      <td>445.0</td>\n",
       "      <td>431.5</td>\n",
       "      <td>496.5</td>\n",
       "      <td>494.0</td>\n",
       "    </tr>\n",
       "    <tr>\n",
       "      <th>374</th>\n",
       "      <td>375</td>\n",
       "      <td>Gerlitzen</td>\n",
       "      <td>46.694760</td>\n",
       "      <td>13.914332</td>\n",
       "      <td>Austria</td>\n",
       "      <td>Europe</td>\n",
       "      <td>45</td>\n",
       "      <td>December - April</td>\n",
       "      <td>1000</td>\n",
       "      <td>520</td>\n",
       "      <td>...</td>\n",
       "      <td>No</td>\n",
       "      <td>No</td>\n",
       "      <td>86.0</td>\n",
       "      <td>46.0</td>\n",
       "      <td>49.0</td>\n",
       "      <td>40.5</td>\n",
       "      <td>461.5</td>\n",
       "      <td>254.5</td>\n",
       "      <td>326.5</td>\n",
       "      <td>207.0</td>\n",
       "    </tr>\n",
       "    <tr>\n",
       "      <th>415</th>\n",
       "      <td>416</td>\n",
       "      <td>Tauplitz-Bad Mitterndorf</td>\n",
       "      <td>47.577281</td>\n",
       "      <td>13.984784</td>\n",
       "      <td>Austria</td>\n",
       "      <td>Europe</td>\n",
       "      <td>41</td>\n",
       "      <td>December - April</td>\n",
       "      <td>896</td>\n",
       "      <td>812</td>\n",
       "      <td>...</td>\n",
       "      <td>No</td>\n",
       "      <td>No</td>\n",
       "      <td>87.0</td>\n",
       "      <td>64.0</td>\n",
       "      <td>43.5</td>\n",
       "      <td>38.0</td>\n",
       "      <td>475.0</td>\n",
       "      <td>322.0</td>\n",
       "      <td>310.0</td>\n",
       "      <td>195.5</td>\n",
       "    </tr>\n",
       "    <tr>\n",
       "      <th>457</th>\n",
       "      <td>458</td>\n",
       "      <td>Kellerjoch-Schwaz</td>\n",
       "      <td>47.330214</td>\n",
       "      <td>11.718045</td>\n",
       "      <td>Austria</td>\n",
       "      <td>Europe</td>\n",
       "      <td>29</td>\n",
       "      <td>April</td>\n",
       "      <td>857</td>\n",
       "      <td>545</td>\n",
       "      <td>...</td>\n",
       "      <td>No</td>\n",
       "      <td>No</td>\n",
       "      <td>88.0</td>\n",
       "      <td>88.0</td>\n",
       "      <td>83.0</td>\n",
       "      <td>81.5</td>\n",
       "      <td>481.0</td>\n",
       "      <td>442.5</td>\n",
       "      <td>467.5</td>\n",
       "      <td>456.0</td>\n",
       "    </tr>\n",
       "    <tr>\n",
       "      <th>441</th>\n",
       "      <td>442</td>\n",
       "      <td>Kirchdorf</td>\n",
       "      <td>47.575626</td>\n",
       "      <td>12.387344</td>\n",
       "      <td>Austria</td>\n",
       "      <td>Europe</td>\n",
       "      <td>30</td>\n",
       "      <td>December - March</td>\n",
       "      <td>780</td>\n",
       "      <td>640</td>\n",
       "      <td>...</td>\n",
       "      <td>No</td>\n",
       "      <td>No</td>\n",
       "      <td>89.0</td>\n",
       "      <td>85.0</td>\n",
       "      <td>87.0</td>\n",
       "      <td>86.0</td>\n",
       "      <td>488.0</td>\n",
       "      <td>431.5</td>\n",
       "      <td>486.5</td>\n",
       "      <td>482.5</td>\n",
       "    </tr>\n",
       "  </tbody>\n",
       "</table>\n",
       "<p>499 rows × 33 columns</p>\n",
       "</div>"
      ],
      "text/plain": [
       "      ID                    Resort   Latitude   Longitude  Country  \\\n",
       "353  354         Szczyrk-Skrzyczne  49.707120   19.011709   Poland   \n",
       "268  269                   Bukovel  48.353783   24.412830  Ukraine   \n",
       "49    50              Valle Nevado -33.352964  -70.248678    Chile   \n",
       "180  181          Sunshine Village  51.089525 -115.762202   Canada   \n",
       "48    49            Les Deux alpes  45.009995    6.123761   France   \n",
       "..   ...                       ...        ...         ...      ...   \n",
       "204  205     Oberau (Wildscho?nau)  47.423497   12.030743  Austria   \n",
       "374  375                 Gerlitzen  46.694760   13.914332  Austria   \n",
       "415  416  Tauplitz-Bad Mitterndorf  47.577281   13.984784  Austria   \n",
       "457  458         Kellerjoch-Schwaz  47.330214   11.718045  Austria   \n",
       "441  442                 Kirchdorf  47.575626   12.387344  Austria   \n",
       "\n",
       "         Continent  Price                                             Season  \\\n",
       "353         Europe     20                                   December - April   \n",
       "268         Europe     32                                     November - May   \n",
       "49   South America     64                                     June - October   \n",
       "180  North America     66                                     November - May   \n",
       "48          Europe     49  December - April, June - August, October - Nov...   \n",
       "..             ...    ...                                                ...   \n",
       "204         Europe     30                                   December - March   \n",
       "374         Europe     45                                   December - April   \n",
       "415         Europe     41                                   December - April   \n",
       "457         Europe     29                                              April   \n",
       "441         Europe     30                                   December - March   \n",
       "\n",
       "     Highest point  Lowest point  ...  Nightskiing  Summer skiing  \\\n",
       "353           1257           524  ...           No             No   \n",
       "268           1372           890  ...          Yes             No   \n",
       "49            3670          2860  ...           No            Yes   \n",
       "180           2730          1660  ...           No             No   \n",
       "48            3560          1280  ...          Yes            Yes   \n",
       "..             ...           ...  ...          ...            ...   \n",
       "204           1130           900  ...           No             No   \n",
       "374           1000           520  ...           No             No   \n",
       "415            896           812  ...           No             No   \n",
       "457            857           545  ...           No             No   \n",
       "441            780           640  ...           No             No   \n",
       "\n",
       "     country_elevation_rank  country_price_rank  country_slope_rank  \\\n",
       "353                     1.0                 2.0                 1.0   \n",
       "268                     1.0                 1.0                 1.0   \n",
       "49                      1.0                 1.5                 2.0   \n",
       "180                     1.0                 4.5                 7.0   \n",
       "48                      1.0                18.0                18.5   \n",
       "..                      ...                 ...                 ...   \n",
       "204                    85.0                85.0                89.0   \n",
       "374                    86.0                46.0                49.0   \n",
       "415                    87.0                64.0                43.5   \n",
       "457                    88.0                88.0                83.0   \n",
       "441                    89.0                85.0                87.0   \n",
       "\n",
       "     country_lift_rank  global_elevation_rank  global_price_rank  \\\n",
       "353                1.0                  425.0              481.0   \n",
       "268                1.0                  405.0              414.5   \n",
       "49                 2.0                   12.0               79.5   \n",
       "180                5.5                  120.0               72.0   \n",
       "48                20.0                   17.0              198.5   \n",
       "..                 ...                    ...                ...   \n",
       "204               89.0                  445.0              431.5   \n",
       "374               40.5                  461.5              254.5   \n",
       "415               38.0                  475.0              322.0   \n",
       "457               81.5                  481.0              442.5   \n",
       "441               86.0                  488.0              431.5   \n",
       "\n",
       "     global_slope_rank  global_lift_rank  \n",
       "353              362.5             236.0  \n",
       "268              209.5             207.0  \n",
       "49               335.0             256.0  \n",
       "180              109.0             326.5  \n",
       "48                45.0              47.5  \n",
       "..                 ...               ...  \n",
       "204              496.5             494.0  \n",
       "374              326.5             207.0  \n",
       "415              310.0             195.5  \n",
       "457              467.5             456.0  \n",
       "441              486.5             482.5  \n",
       "\n",
       "[499 rows x 33 columns]"
      ]
     },
     "execution_count": 159,
     "metadata": {},
     "output_type": "execute_result"
    }
   ],
   "source": [
    "resorts2 = (\n",
    "    pd.read_csv(\"data/resorts.csv\", encoding = \"ISO-8859-1\")\n",
    "    .assign(\n",
    "        country_elevation_rank = lambda x: x.groupby(\"Country\", as_index=False)[\"Highest point\"].rank(ascending=False),\n",
    "        country_price_rank = lambda x: x.groupby(\"Country\", as_index=False)[\"Price\"].rank(ascending=False),\n",
    "        country_slope_rank = lambda x: x.groupby(\"Country\", as_index=False)[\"Total slopes\"].rank(ascending=False),\n",
    "        country_lift_rank = lambda x: x.groupby(\"Country\", as_index=False)[\"Total lifts\"].rank(ascending=False),\n",
    "        global_elevation_rank = lambda x: x[\"Highest point\"].rank(ascending=False),\n",
    "        global_price_rank = lambda x: x[\"Price\"].rank(ascending=False),\n",
    "        global_slope_rank = lambda x: x[\"Total slopes\"].rank(ascending=False),\n",
    "        global_lift_rank = lambda x: x[\"Total lifts\"].rank(ascending=False),\n",
    "    ))\n",
    "\n",
    "resorts2.sort_values([\"country_elevation_rank\"])"
   ]
  },
  {
   "cell_type": "code",
   "execution_count": 225,
   "metadata": {},
   "outputs": [
    {
     "data": {
      "application/vnd.plotly.v1+json": {
       "config": {
        "plotlyServerURL": "https://plot.ly"
       },
       "data": [
        {
         "alignmentgroup": "True",
         "hovertemplate": "Resort=%{x}<br>Price=%{y}<extra></extra>",
         "legendgroup": "",
         "marker": {
          "color": "#5769fe",
          "pattern": {
           "shape": ""
          }
         },
         "name": "",
         "offsetgroup": "",
         "orientation": "v",
         "showlegend": false,
         "textposition": "auto",
         "type": "bar",
         "x": [
          "Hemsedal",
          "Trysil",
          "Hafjell",
          "Kvitfjell",
          "Geilosiden Geilo",
          "Oppdal",
          "Myrkdalen",
          "Voss",
          "Ga?la?",
          "Fonna Glacier"
         ],
         "xaxis": "x",
         "y": [
          46,
          46,
          45,
          45,
          44,
          44,
          44,
          43,
          43,
          42
         ],
         "yaxis": "y"
        }
       ],
       "layout": {
        "barmode": "relative",
        "legend": {
         "tracegroupgap": 0
        },
        "margin": {
         "t": 60
        },
        "template": {
         "data": {
          "bar": [
           {
            "error_x": {
             "color": "#2a3f5f"
            },
            "error_y": {
             "color": "#2a3f5f"
            },
            "marker": {
             "line": {
              "color": "white",
              "width": 0.5
             },
             "pattern": {
              "fillmode": "overlay",
              "size": 10,
              "solidity": 0.2
             }
            },
            "type": "bar"
           }
          ],
          "barpolar": [
           {
            "marker": {
             "line": {
              "color": "white",
              "width": 0.5
             },
             "pattern": {
              "fillmode": "overlay",
              "size": 10,
              "solidity": 0.2
             }
            },
            "type": "barpolar"
           }
          ],
          "carpet": [
           {
            "aaxis": {
             "endlinecolor": "#2a3f5f",
             "gridcolor": "#C8D4E3",
             "linecolor": "#C8D4E3",
             "minorgridcolor": "#C8D4E3",
             "startlinecolor": "#2a3f5f"
            },
            "baxis": {
             "endlinecolor": "#2a3f5f",
             "gridcolor": "#C8D4E3",
             "linecolor": "#C8D4E3",
             "minorgridcolor": "#C8D4E3",
             "startlinecolor": "#2a3f5f"
            },
            "type": "carpet"
           }
          ],
          "choropleth": [
           {
            "colorbar": {
             "outlinewidth": 0,
             "ticks": ""
            },
            "type": "choropleth"
           }
          ],
          "contour": [
           {
            "colorbar": {
             "outlinewidth": 0,
             "ticks": ""
            },
            "colorscale": [
             [
              0,
              "#0d0887"
             ],
             [
              0.1111111111111111,
              "#46039f"
             ],
             [
              0.2222222222222222,
              "#7201a8"
             ],
             [
              0.3333333333333333,
              "#9c179e"
             ],
             [
              0.4444444444444444,
              "#bd3786"
             ],
             [
              0.5555555555555556,
              "#d8576b"
             ],
             [
              0.6666666666666666,
              "#ed7953"
             ],
             [
              0.7777777777777778,
              "#fb9f3a"
             ],
             [
              0.8888888888888888,
              "#fdca26"
             ],
             [
              1,
              "#f0f921"
             ]
            ],
            "type": "contour"
           }
          ],
          "contourcarpet": [
           {
            "colorbar": {
             "outlinewidth": 0,
             "ticks": ""
            },
            "type": "contourcarpet"
           }
          ],
          "heatmap": [
           {
            "colorbar": {
             "outlinewidth": 0,
             "ticks": ""
            },
            "colorscale": [
             [
              0,
              "#0d0887"
             ],
             [
              0.1111111111111111,
              "#46039f"
             ],
             [
              0.2222222222222222,
              "#7201a8"
             ],
             [
              0.3333333333333333,
              "#9c179e"
             ],
             [
              0.4444444444444444,
              "#bd3786"
             ],
             [
              0.5555555555555556,
              "#d8576b"
             ],
             [
              0.6666666666666666,
              "#ed7953"
             ],
             [
              0.7777777777777778,
              "#fb9f3a"
             ],
             [
              0.8888888888888888,
              "#fdca26"
             ],
             [
              1,
              "#f0f921"
             ]
            ],
            "type": "heatmap"
           }
          ],
          "heatmapgl": [
           {
            "colorbar": {
             "outlinewidth": 0,
             "ticks": ""
            },
            "colorscale": [
             [
              0,
              "#0d0887"
             ],
             [
              0.1111111111111111,
              "#46039f"
             ],
             [
              0.2222222222222222,
              "#7201a8"
             ],
             [
              0.3333333333333333,
              "#9c179e"
             ],
             [
              0.4444444444444444,
              "#bd3786"
             ],
             [
              0.5555555555555556,
              "#d8576b"
             ],
             [
              0.6666666666666666,
              "#ed7953"
             ],
             [
              0.7777777777777778,
              "#fb9f3a"
             ],
             [
              0.8888888888888888,
              "#fdca26"
             ],
             [
              1,
              "#f0f921"
             ]
            ],
            "type": "heatmapgl"
           }
          ],
          "histogram": [
           {
            "marker": {
             "pattern": {
              "fillmode": "overlay",
              "size": 10,
              "solidity": 0.2
             }
            },
            "type": "histogram"
           }
          ],
          "histogram2d": [
           {
            "colorbar": {
             "outlinewidth": 0,
             "ticks": ""
            },
            "colorscale": [
             [
              0,
              "#0d0887"
             ],
             [
              0.1111111111111111,
              "#46039f"
             ],
             [
              0.2222222222222222,
              "#7201a8"
             ],
             [
              0.3333333333333333,
              "#9c179e"
             ],
             [
              0.4444444444444444,
              "#bd3786"
             ],
             [
              0.5555555555555556,
              "#d8576b"
             ],
             [
              0.6666666666666666,
              "#ed7953"
             ],
             [
              0.7777777777777778,
              "#fb9f3a"
             ],
             [
              0.8888888888888888,
              "#fdca26"
             ],
             [
              1,
              "#f0f921"
             ]
            ],
            "type": "histogram2d"
           }
          ],
          "histogram2dcontour": [
           {
            "colorbar": {
             "outlinewidth": 0,
             "ticks": ""
            },
            "colorscale": [
             [
              0,
              "#0d0887"
             ],
             [
              0.1111111111111111,
              "#46039f"
             ],
             [
              0.2222222222222222,
              "#7201a8"
             ],
             [
              0.3333333333333333,
              "#9c179e"
             ],
             [
              0.4444444444444444,
              "#bd3786"
             ],
             [
              0.5555555555555556,
              "#d8576b"
             ],
             [
              0.6666666666666666,
              "#ed7953"
             ],
             [
              0.7777777777777778,
              "#fb9f3a"
             ],
             [
              0.8888888888888888,
              "#fdca26"
             ],
             [
              1,
              "#f0f921"
             ]
            ],
            "type": "histogram2dcontour"
           }
          ],
          "mesh3d": [
           {
            "colorbar": {
             "outlinewidth": 0,
             "ticks": ""
            },
            "type": "mesh3d"
           }
          ],
          "parcoords": [
           {
            "line": {
             "colorbar": {
              "outlinewidth": 0,
              "ticks": ""
             }
            },
            "type": "parcoords"
           }
          ],
          "pie": [
           {
            "automargin": true,
            "type": "pie"
           }
          ],
          "scatter": [
           {
            "marker": {
             "line": {
              "color": "#fff"
             }
            },
            "type": "scatter"
           }
          ],
          "scatter3d": [
           {
            "line": {
             "colorbar": {
              "outlinewidth": 0,
              "ticks": ""
             }
            },
            "marker": {
             "colorbar": {
              "outlinewidth": 0,
              "ticks": ""
             }
            },
            "type": "scatter3d"
           }
          ],
          "scattercarpet": [
           {
            "marker": {
             "colorbar": {
              "outlinewidth": 0,
              "ticks": ""
             }
            },
            "type": "scattercarpet"
           }
          ],
          "scattergeo": [
           {
            "marker": {
             "colorbar": {
              "outlinewidth": 0,
              "ticks": ""
             }
            },
            "type": "scattergeo"
           }
          ],
          "scattergl": [
           {
            "marker": {
             "line": {
              "color": "#fff"
             }
            },
            "type": "scattergl"
           }
          ],
          "scattermapbox": [
           {
            "marker": {
             "colorbar": {
              "outlinewidth": 0,
              "ticks": ""
             }
            },
            "type": "scattermapbox"
           }
          ],
          "scatterpolar": [
           {
            "marker": {
             "colorbar": {
              "outlinewidth": 0,
              "ticks": ""
             }
            },
            "type": "scatterpolar"
           }
          ],
          "scatterpolargl": [
           {
            "marker": {
             "colorbar": {
              "outlinewidth": 0,
              "ticks": ""
             }
            },
            "type": "scatterpolargl"
           }
          ],
          "scatterternary": [
           {
            "marker": {
             "colorbar": {
              "outlinewidth": 0,
              "ticks": ""
             }
            },
            "type": "scatterternary"
           }
          ],
          "surface": [
           {
            "colorbar": {
             "outlinewidth": 0,
             "ticks": ""
            },
            "colorscale": [
             [
              0,
              "#0d0887"
             ],
             [
              0.1111111111111111,
              "#46039f"
             ],
             [
              0.2222222222222222,
              "#7201a8"
             ],
             [
              0.3333333333333333,
              "#9c179e"
             ],
             [
              0.4444444444444444,
              "#bd3786"
             ],
             [
              0.5555555555555556,
              "#d8576b"
             ],
             [
              0.6666666666666666,
              "#ed7953"
             ],
             [
              0.7777777777777778,
              "#fb9f3a"
             ],
             [
              0.8888888888888888,
              "#fdca26"
             ],
             [
              1,
              "#f0f921"
             ]
            ],
            "type": "surface"
           }
          ],
          "table": [
           {
            "cells": {
             "fill": {
              "color": "#EBF0F8"
             },
             "line": {
              "color": "white"
             }
            },
            "header": {
             "fill": {
              "color": "#C8D4E3"
             },
             "line": {
              "color": "white"
             }
            },
            "type": "table"
           }
          ]
         },
         "layout": {
          "annotationdefaults": {
           "arrowcolor": "#2a3f5f",
           "arrowhead": 0,
           "arrowwidth": 1,
           "font": {
            "color": "#212529"
           }
          },
          "autotypenumbers": "strict",
          "coloraxis": {
           "colorbar": {
            "outlinewidth": 0,
            "ticks": ""
           }
          },
          "colorscale": {
           "diverging": [
            [
             0,
             "#8e0152"
            ],
            [
             0.1,
             "#c51b7d"
            ],
            [
             0.2,
             "#de77ae"
            ],
            [
             0.3,
             "#f1b6da"
            ],
            [
             0.4,
             "#fde0ef"
            ],
            [
             0.5,
             "#f7f7f7"
            ],
            [
             0.6,
             "#e6f5d0"
            ],
            [
             0.7,
             "#b8e186"
            ],
            [
             0.8,
             "#7fbc41"
            ],
            [
             0.9,
             "#4d9221"
            ],
            [
             1,
             "#276419"
            ]
           ],
           "sequential": [
            [
             0,
             "#0d6efd"
            ],
            [
             0.1,
             "#286eef"
            ],
            [
             0.2,
             "#426fe2"
            ],
            [
             0.30000000000000004,
             "#5d6fd4"
            ],
            [
             0.4,
             "#786fc7"
            ],
            [
             0.5,
             "#926fb9"
            ],
            [
             0.6000000000000001,
             "#ad70ac"
            ],
            [
             0.7000000000000001,
             "#c8709e"
            ],
            [
             0.8,
             "#e37091"
            ],
            [
             0.9,
             "#fd7083"
            ],
            [
             1,
             "#ff7176"
            ]
           ],
           "sequentialminus": [
            [
             0,
             "#0d0887"
            ],
            [
             0.1111111111111111,
             "#46039f"
            ],
            [
             0.2222222222222222,
             "#7201a8"
            ],
            [
             0.3333333333333333,
             "#9c179e"
            ],
            [
             0.4444444444444444,
             "#bd3786"
            ],
            [
             0.5555555555555556,
             "#d8576b"
            ],
            [
             0.6666666666666666,
             "#ed7953"
            ],
            [
             0.7777777777777778,
             "#fb9f3a"
            ],
            [
             0.8888888888888888,
             "#fdca26"
            ],
            [
             1,
             "#f0f921"
            ]
           ]
          },
          "colorway": [
           "#5769fe",
           "#d93446",
           "#0a8853",
           "#f7c200",
           "#43c9f0"
          ],
          "font": {
           "color": "#212529",
           "family": "system-ui,-apple-system,\"Segoe UI\",Roboto,\"Helvetica Neue\",\"Noto Sans\",\"Liberation Sans\",Arial,sans-serif,\"Apple Color Emoji\",\"Segoe UI Emoji\",\"Segoe UI Symbol\",\"Noto Color Emoji\""
          },
          "geo": {
           "bgcolor": "#fff",
           "lakecolor": "#fff",
           "landcolor": "#fff",
           "showlakes": true,
           "showland": true,
           "subunitcolor": "#C8D4E3"
          },
          "hoverlabel": {
           "align": "left",
           "font": {
            "family": "system-ui,-apple-system,\"Segoe UI\",Roboto,\"Helvetica Neue\",\"Noto Sans\",\"Liberation Sans\",Arial,sans-serif,\"Apple Color Emoji\",\"Segoe UI Emoji\",\"Segoe UI Symbol\",\"Noto Color Emoji\""
           }
          },
          "hovermode": "closest",
          "mapbox": {
           "style": "light"
          },
          "paper_bgcolor": "#fff",
          "piecolorway": [
           "#5769fe",
           "#d93446",
           "#0a8853",
           "#f7c200",
           "#43c9f0"
          ],
          "plot_bgcolor": "#fff",
          "polar": {
           "angularaxis": {
            "gridcolor": "#EBF0F8",
            "linecolor": "#EBF0F8",
            "ticks": ""
           },
           "bgcolor": "white",
           "radialaxis": {
            "gridcolor": "#EBF0F8",
            "linecolor": "#EBF0F8",
            "ticks": ""
           }
          },
          "scene": {
           "xaxis": {
            "backgroundcolor": "white",
            "gridcolor": "#DFE8F3",
            "gridwidth": 2,
            "linecolor": "#EBF0F8",
            "showbackground": true,
            "ticks": "",
            "zerolinecolor": "#EBF0F8"
           },
           "yaxis": {
            "backgroundcolor": "white",
            "gridcolor": "#DFE8F3",
            "gridwidth": 2,
            "linecolor": "#EBF0F8",
            "showbackground": true,
            "ticks": "",
            "zerolinecolor": "#EBF0F8"
           },
           "zaxis": {
            "backgroundcolor": "white",
            "gridcolor": "#DFE8F3",
            "gridwidth": 2,
            "linecolor": "#EBF0F8",
            "showbackground": true,
            "ticks": "",
            "zerolinecolor": "#EBF0F8"
           }
          },
          "shapedefaults": {
           "line": {
            "color": "#2a3f5f"
           }
          },
          "ternary": {
           "aaxis": {
            "gridcolor": "#DFE8F3",
            "linecolor": "#A2B1C6",
            "ticks": ""
           },
           "baxis": {
            "gridcolor": "#DFE8F3",
            "linecolor": "#A2B1C6",
            "ticks": ""
           },
           "bgcolor": "white",
           "caxis": {
            "gridcolor": "#DFE8F3",
            "linecolor": "#A2B1C6",
            "ticks": ""
           }
          },
          "title": {
           "x": 0.05
          },
          "xaxis": {
           "automargin": true,
           "gridcolor": "#edeeee",
           "gridwidth": 0.5,
           "linecolor": "#EBF0F8",
           "ticks": "",
           "title": {
            "standoff": 15
           },
           "zerolinecolor": "#edeeee",
           "zerolinewidth": 2
          },
          "yaxis": {
           "automargin": true,
           "gridcolor": "#edeeee",
           "gridwidth": 0.5,
           "linecolor": "#EBF0F8",
           "ticks": "",
           "title": {
            "standoff": 15
           },
           "zerolinecolor": "#edeeee",
           "zerolinewidth": 2
          }
         }
        },
        "xaxis": {
         "anchor": "y",
         "domain": [
          0,
          1
         ],
         "tickfont": {
          "color": "rgba(0,0,0,0)"
         },
         "title": {
          "text": "Resort"
         }
        },
        "yaxis": {
         "anchor": "x",
         "domain": [
          0,
          1
         ],
         "title": {
          "text": "Price"
         }
        }
       }
      }
     },
     "metadata": {},
     "output_type": "display_data"
    }
   ],
   "source": [
    "metric = \"Price\"\n",
    "country = \"Norway\"\n",
    "continent = \"Europe\"\n",
    "df_bar = resorts.query(\"Country == @country\").sort_values(by = metric, ascending = False).head(10)\n",
    "df_bar\n",
    "    \n",
    "title2 = f\"Top 10 resorts in {country} based on {metric}\"\n",
    "title2\n",
    "\n",
    "figure2 = (px.bar(df_bar,\n",
    "              x = \"Resort\",\n",
    "              y = metric).update_xaxes(tickfont=dict(color=\"rgba(0,0,0,0)\")))\n",
    "\n",
    "figure2\n",
    "\n"
   ]
  },
  {
   "cell_type": "code",
   "execution_count": 175,
   "metadata": {},
   "outputs": [
    {
     "data": {
      "text/plain": [
       "8"
      ]
     },
     "execution_count": 175,
     "metadata": {},
     "output_type": "execute_result"
    }
   ],
   "source": [
    "priceRankGlobal = resorts.query(\"Resort == 'Voss'\")[\"country_price_rank\"].iloc[0].astype(int)\n",
    "priceRankCountry"
   ]
  },
  {
   "cell_type": "code",
   "execution_count": 139,
   "metadata": {},
   "outputs": [
    {
     "data": {
      "text/html": [
       "<div>\n",
       "<style scoped>\n",
       "    .dataframe tbody tr th:only-of-type {\n",
       "        vertical-align: middle;\n",
       "    }\n",
       "\n",
       "    .dataframe tbody tr th {\n",
       "        vertical-align: top;\n",
       "    }\n",
       "\n",
       "    .dataframe thead th {\n",
       "        text-align: right;\n",
       "    }\n",
       "</style>\n",
       "<table border=\"1\" class=\"dataframe\">\n",
       "  <thead>\n",
       "    <tr style=\"text-align: right;\">\n",
       "      <th></th>\n",
       "      <th>ID</th>\n",
       "      <th>Resort</th>\n",
       "      <th>Latitude</th>\n",
       "      <th>Longitude</th>\n",
       "      <th>Country</th>\n",
       "      <th>Continent</th>\n",
       "      <th>Price</th>\n",
       "      <th>Season</th>\n",
       "      <th>Highest point</th>\n",
       "      <th>Lowest point</th>\n",
       "      <th>...</th>\n",
       "      <th>Total lifts</th>\n",
       "      <th>Lift capacity</th>\n",
       "      <th>Child friendly</th>\n",
       "      <th>Snowparks</th>\n",
       "      <th>Nightskiing</th>\n",
       "      <th>Summer skiing</th>\n",
       "      <th>country_elevation_rank</th>\n",
       "      <th>country_price_rank</th>\n",
       "      <th>country_slope_rank</th>\n",
       "      <th>country_cannon_rank</th>\n",
       "    </tr>\n",
       "  </thead>\n",
       "  <tbody>\n",
       "    <tr>\n",
       "      <th>5</th>\n",
       "      <td>6</td>\n",
       "      <td>Voss</td>\n",
       "      <td>60.683706</td>\n",
       "      <td>6.407905</td>\n",
       "      <td>Norway</td>\n",
       "      <td>Europe</td>\n",
       "      <td>43</td>\n",
       "      <td>November - May</td>\n",
       "      <td>960</td>\n",
       "      <td>284</td>\n",
       "      <td>...</td>\n",
       "      <td>11</td>\n",
       "      <td>11900</td>\n",
       "      <td>Yes</td>\n",
       "      <td>Yes</td>\n",
       "      <td>No</td>\n",
       "      <td>No</td>\n",
       "      <td>10.0</td>\n",
       "      <td>8.5</td>\n",
       "      <td>5.0</td>\n",
       "      <td>7.0</td>\n",
       "    </tr>\n",
       "  </tbody>\n",
       "</table>\n",
       "<p>1 rows × 29 columns</p>\n",
       "</div>"
      ],
      "text/plain": [
       "   ID Resort   Latitude  Longitude Country Continent  Price          Season  \\\n",
       "5   6   Voss  60.683706   6.407905  Norway    Europe     43  November - May   \n",
       "\n",
       "   Highest point  Lowest point  ...  Total lifts  Lift capacity  \\\n",
       "5            960           284  ...           11          11900   \n",
       "\n",
       "   Child friendly  Snowparks  Nightskiing  Summer skiing  \\\n",
       "5             Yes        Yes           No             No   \n",
       "\n",
       "   country_elevation_rank  country_price_rank  country_slope_rank  \\\n",
       "5                    10.0                 8.5                 5.0   \n",
       "\n",
       "   country_cannon_rank  \n",
       "5                  7.0  \n",
       "\n",
       "[1 rows x 29 columns]"
      ]
     },
     "execution_count": 139,
     "metadata": {},
     "output_type": "execute_result"
    }
   ],
   "source": [
    "resortname = \"Voss\"\n",
    "\n",
    "elevation = resorts.query(\"Resort == @resortname\")[\"country_elevation_rank\"]\n",
    "elevation\n",
    "\n",
    "resorts.query(\"Resort == @resortname\")\n",
    "\n",
    "\n",
    "\n",
    "# country_elevation_rank \n",
    "# country_price_rank \n",
    "# country_slope_rank \n",
    "# ountry_lift_rank \n",
    "\n",
    "# global_elevation_rank \n",
    "# global_price_rank \n",
    "# global_slope_rank \n",
    "# global_lift_rank"
   ]
  }
 ],
 "metadata": {
  "kernelspec": {
   "display_name": "base",
   "language": "python",
   "name": "python3"
  },
  "language_info": {
   "codemirror_mode": {
    "name": "ipython",
    "version": 3
   },
   "file_extension": ".py",
   "mimetype": "text/x-python",
   "name": "python",
   "nbconvert_exporter": "python",
   "pygments_lexer": "ipython3",
   "version": "3.11.5"
  }
 },
 "nbformat": 4,
 "nbformat_minor": 2
}
