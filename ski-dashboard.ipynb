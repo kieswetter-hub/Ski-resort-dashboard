{
 "cells": [
  {
   "cell_type": "code",
   "execution_count": 1,
   "metadata": {},
   "outputs": [],
   "source": [
    "from dash import Dash, dcc, html, dash_table\n",
    "import dash_bootstrap_components as dbc\n",
    "from dash.dependencies import Output, Input\n",
    "from dash.exceptions import PreventUpdate\n",
    "from dash_bootstrap_templates import load_figure_template\n",
    "\n",
    "import plotly.express as px\n",
    "import pandas as pd\n",
    "import numpy as np\n"
   ]
  },
  {
   "cell_type": "code",
   "execution_count": 7,
   "metadata": {},
   "outputs": [],
   "source": [
    "resorts = (\n",
    "    pd.read_csv(\"data/resorts.csv\", encoding = \"ISO-8859-1\")\n",
    "    .assign(\n",
    "        country_elevation_rank = lambda x: x.groupby(\"Country\", as_index=False)[\"Highest point\"].rank(ascending=False),\n",
    "        country_price_rank = lambda x: x.groupby(\"Country\", as_index=False)[\"Price\"].rank(ascending=False),\n",
    "        country_slope_rank = lambda x: x.groupby(\"Country\", as_index=False)[\"Total slopes\"].rank(ascending=False),\n",
    "        country_cannon_rank = lambda x: x.groupby(\"Country\", as_index=False)[\"Snow cannons\"].rank(ascending=False),\n",
    "    ))"
   ]
  },
  {
   "cell_type": "code",
   "execution_count": 10,
   "metadata": {},
   "outputs": [
    {
     "name": "stdout",
     "output_type": "stream",
     "text": [
      "<class 'pandas.core.frame.DataFrame'>\n",
      "RangeIndex: 499 entries, 0 to 498\n",
      "Data columns (total 29 columns):\n",
      " #   Column                  Non-Null Count  Dtype  \n",
      "---  ------                  --------------  -----  \n",
      " 0   ID                      499 non-null    int64  \n",
      " 1   Resort                  499 non-null    object \n",
      " 2   Latitude                499 non-null    float64\n",
      " 3   Longitude               499 non-null    float64\n",
      " 4   Country                 499 non-null    object \n",
      " 5   Continent               499 non-null    object \n",
      " 6   Price                   499 non-null    int64  \n",
      " 7   Season                  499 non-null    object \n",
      " 8   Highest point           499 non-null    int64  \n",
      " 9   Lowest point            499 non-null    int64  \n",
      " 10  Beginner slopes         499 non-null    int64  \n",
      " 11  Intermediate slopes     499 non-null    int64  \n",
      " 12  Difficult slopes        499 non-null    int64  \n",
      " 13  Total slopes            499 non-null    int64  \n",
      " 14  Longest run             499 non-null    int64  \n",
      " 15  Snow cannons            499 non-null    int64  \n",
      " 16  Surface lifts           499 non-null    int64  \n",
      " 17  Chair lifts             499 non-null    int64  \n",
      " 18  Gondola lifts           499 non-null    int64  \n",
      " 19  Total lifts             499 non-null    int64  \n",
      " 20  Lift capacity           499 non-null    int64  \n",
      " 21  Child friendly          499 non-null    object \n",
      " 22  Snowparks               499 non-null    object \n",
      " 23  Nightskiing             499 non-null    object \n",
      " 24  Summer skiing           499 non-null    object \n",
      " 25  country_elevation_rank  499 non-null    float64\n",
      " 26  country_price_rank      499 non-null    float64\n",
      " 27  country_slope_rank      499 non-null    float64\n",
      " 28  country_cannon_rank     499 non-null    float64\n",
      "dtypes: float64(6), int64(15), object(8)\n",
      "memory usage: 113.2+ KB\n"
     ]
    }
   ],
   "source": [
    "resorts.info()"
   ]
  }
 ],
 "metadata": {
  "kernelspec": {
   "display_name": "base",
   "language": "python",
   "name": "python3"
  },
  "language_info": {
   "codemirror_mode": {
    "name": "ipython",
    "version": 3
   },
   "file_extension": ".py",
   "mimetype": "text/x-python",
   "name": "python",
   "nbconvert_exporter": "python",
   "pygments_lexer": "ipython3",
   "version": "3.11.5"
  }
 },
 "nbformat": 4,
 "nbformat_minor": 2
}
